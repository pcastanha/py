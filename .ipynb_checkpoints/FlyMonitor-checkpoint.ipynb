{
 "cells": [
  {
   "cell_type": "code",
   "execution_count": 2,
   "metadata": {
    "collapsed": false
   },
   "outputs": [],
   "source": [
    "import ssl\n",
    "import urllib\n",
    "import httplib\n",
    "import requests\n",
    "\n",
    "from lxml import html"
   ]
  },
  {
   "cell_type": "code",
   "execution_count": 3,
   "metadata": {
    "collapsed": false
   },
   "outputs": [
    {
     "name": "stdout",
     "output_type": "stream",
     "text": [
      "200 OK\n",
      "[('x-cnection', 'close'), ('x-aspnet-version', '4.0.30319'), ('set-cookie', 'ASP.NET_SessionId=s53bxpikhqy3hwdn4it5hm5n; path=/; HttpOnly, skysales=!MGxXjjPwu/g+MJNUzcmjA3UPh/5gju4bVYCg2mVfKeGWpEBZzKOcjznxe3SpPEAjAk4bYiZxUm7jgQ==; path=/'), ('expires', '-1'), ('vary', 'Accept-Encoding'), ('content-length', '114930'), ('content-encoding', 'gzip'), ('connection', 'Keep-Alive'), ('pragma', 'no-cache'), ('cache-control', 'no-cache, no-store'), ('date', 'Wed, 05 Apr 2017 02:44:59 GMT'), ('x-powered-by', 'ASP.NET'), ('content-type', 'text/html; charset=utf-8')]\n",
      "200 OK\n",
      "302 Found\n"
     ]
    }
   ],
   "source": [
    "# GET\n",
    "\n",
    "#conn = httplib.HTTPSConnection(\"www.python.org\")\n",
    "conn = httplib.HTTPSConnection(\"208.72.8.246:443\", context=ssl._create_unverified_context())\n",
    "headers = {\"Content-type\": \"application/x-www-form-urlencoded\", \"Accept\": \"text/plain\", \n",
    "           \"Accept-Encoding\": \"gzip, deflate, sdch, br\"}\n",
    "\"\"\"\n",
    "text/html,application/xhtml+xml,application/xml;q=0.9,image/webp,*/*;q=0.8\n",
    "\"\"\"\n",
    "conn.request(\"GET\", \"/\", headers=headers)\n",
    "r1 = conn.getresponse()\n",
    "print r1.status, r1.reason\n",
    "print r1.getheaders()\n",
    "\n",
    "data1 = r1.read()\n",
    "conn.request(\"GET\", \"/\")\n",
    "r2 = conn.getresponse()\n",
    "print r2.status, r2.reason\n",
    "\n",
    "data2 = r2.read()\n",
    "conn.close()\n",
    "\n",
    "# POST\n",
    "\n",
    "params = urllib.urlencode({'@number': 12524, '@type': 'issue', '@action': 'show'})\n",
    "headers = {\"Content-type\": \"application/x-www-form-urlencoded\", \"Accept\": \"text/plain\"}\n",
    "conn = httplib.HTTPConnection(\"bugs.python.org\")\n",
    "conn.request(\"POST\", \"\", params, headers)\n",
    "response = conn.getresponse()\n",
    "print response.status, response.reason\n",
    "\n",
    "data = response.read()\n",
    "data\n",
    "\n",
    "conn.close()"
   ]
  },
  {
   "cell_type": "code",
   "execution_count": 4,
   "metadata": {
    "collapsed": false
   },
   "outputs": [
    {
     "name": "stdout",
     "output_type": "stream",
     "text": [
      "Requesting Voeazul website\n"
     ]
    },
    {
     "ename": "error",
     "evalue": "[Errno 10054] An existing connection was forcibly closed by the remote host",
     "output_type": "error",
     "traceback": [
      "\u001b[0;31m---------------------------------------------------------------------------\u001b[0m",
      "\u001b[0;31merror\u001b[0m                                     Traceback (most recent call last)",
      "\u001b[0;32m<ipython-input-4-9c74b578b2f0>\u001b[0m in \u001b[0;36m<module>\u001b[0;34m()\u001b[0m\n\u001b[1;32m     58\u001b[0m \u001b[0mconn\u001b[0m \u001b[1;33m=\u001b[0m \u001b[0mhttplib\u001b[0m\u001b[1;33m.\u001b[0m\u001b[0mHTTPConnection\u001b[0m\u001b[1;33m(\u001b[0m\u001b[1;34m\"104.105.131.94:443\"\u001b[0m\u001b[1;33m)\u001b[0m\u001b[1;33m\u001b[0m\u001b[0m\n\u001b[1;32m     59\u001b[0m \u001b[0mconn\u001b[0m\u001b[1;33m.\u001b[0m\u001b[0mrequest\u001b[0m\u001b[1;33m(\u001b[0m\u001b[1;34m\"POST\"\u001b[0m\u001b[1;33m,\u001b[0m \u001b[1;34m\"\"\u001b[0m\u001b[1;33m,\u001b[0m \u001b[0mparams\u001b[0m\u001b[1;33m,\u001b[0m \u001b[0mheaders\u001b[0m\u001b[1;33m)\u001b[0m\u001b[1;33m\u001b[0m\u001b[0m\n\u001b[0;32m---> 60\u001b[0;31m \u001b[0mresponse\u001b[0m \u001b[1;33m=\u001b[0m \u001b[0mconn\u001b[0m\u001b[1;33m.\u001b[0m\u001b[0mgetresponse\u001b[0m\u001b[1;33m(\u001b[0m\u001b[1;33m)\u001b[0m\u001b[1;33m\u001b[0m\u001b[0m\n\u001b[0m\u001b[1;32m     61\u001b[0m \u001b[1;32mprint\u001b[0m \u001b[0mresponse\u001b[0m\u001b[1;33m.\u001b[0m\u001b[0mstatus\u001b[0m\u001b[1;33m,\u001b[0m \u001b[0mresponse\u001b[0m\u001b[1;33m.\u001b[0m\u001b[0mreason\u001b[0m\u001b[1;33m\u001b[0m\u001b[0m\n\u001b[1;32m     62\u001b[0m \u001b[1;33m\u001b[0m\u001b[0m\n",
      "\u001b[0;32mC:\\Pedro\\Anaconda\\envs\\py27\\lib\\httplib.pyc\u001b[0m in \u001b[0;36mgetresponse\u001b[0;34m(self, buffering)\u001b[0m\n\u001b[1;32m   1119\u001b[0m \u001b[1;33m\u001b[0m\u001b[0m\n\u001b[1;32m   1120\u001b[0m         \u001b[1;32mtry\u001b[0m\u001b[1;33m:\u001b[0m\u001b[1;33m\u001b[0m\u001b[0m\n\u001b[0;32m-> 1121\u001b[0;31m             \u001b[0mresponse\u001b[0m\u001b[1;33m.\u001b[0m\u001b[0mbegin\u001b[0m\u001b[1;33m(\u001b[0m\u001b[1;33m)\u001b[0m\u001b[1;33m\u001b[0m\u001b[0m\n\u001b[0m\u001b[1;32m   1122\u001b[0m             \u001b[1;32massert\u001b[0m \u001b[0mresponse\u001b[0m\u001b[1;33m.\u001b[0m\u001b[0mwill_close\u001b[0m \u001b[1;33m!=\u001b[0m \u001b[0m_UNKNOWN\u001b[0m\u001b[1;33m\u001b[0m\u001b[0m\n\u001b[1;32m   1123\u001b[0m             \u001b[0mself\u001b[0m\u001b[1;33m.\u001b[0m\u001b[0m__state\u001b[0m \u001b[1;33m=\u001b[0m \u001b[0m_CS_IDLE\u001b[0m\u001b[1;33m\u001b[0m\u001b[0m\n",
      "\u001b[0;32mC:\\Pedro\\Anaconda\\envs\\py27\\lib\\httplib.pyc\u001b[0m in \u001b[0;36mbegin\u001b[0;34m(self)\u001b[0m\n\u001b[1;32m    436\u001b[0m         \u001b[1;31m# read until we get a non-100 response\u001b[0m\u001b[1;33m\u001b[0m\u001b[1;33m\u001b[0m\u001b[0m\n\u001b[1;32m    437\u001b[0m         \u001b[1;32mwhile\u001b[0m \u001b[0mTrue\u001b[0m\u001b[1;33m:\u001b[0m\u001b[1;33m\u001b[0m\u001b[0m\n\u001b[0;32m--> 438\u001b[0;31m             \u001b[0mversion\u001b[0m\u001b[1;33m,\u001b[0m \u001b[0mstatus\u001b[0m\u001b[1;33m,\u001b[0m \u001b[0mreason\u001b[0m \u001b[1;33m=\u001b[0m \u001b[0mself\u001b[0m\u001b[1;33m.\u001b[0m\u001b[0m_read_status\u001b[0m\u001b[1;33m(\u001b[0m\u001b[1;33m)\u001b[0m\u001b[1;33m\u001b[0m\u001b[0m\n\u001b[0m\u001b[1;32m    439\u001b[0m             \u001b[1;32mif\u001b[0m \u001b[0mstatus\u001b[0m \u001b[1;33m!=\u001b[0m \u001b[0mCONTINUE\u001b[0m\u001b[1;33m:\u001b[0m\u001b[1;33m\u001b[0m\u001b[0m\n\u001b[1;32m    440\u001b[0m                 \u001b[1;32mbreak\u001b[0m\u001b[1;33m\u001b[0m\u001b[0m\n",
      "\u001b[0;32mC:\\Pedro\\Anaconda\\envs\\py27\\lib\\httplib.pyc\u001b[0m in \u001b[0;36m_read_status\u001b[0;34m(self)\u001b[0m\n\u001b[1;32m    392\u001b[0m     \u001b[1;32mdef\u001b[0m \u001b[0m_read_status\u001b[0m\u001b[1;33m(\u001b[0m\u001b[0mself\u001b[0m\u001b[1;33m)\u001b[0m\u001b[1;33m:\u001b[0m\u001b[1;33m\u001b[0m\u001b[0m\n\u001b[1;32m    393\u001b[0m         \u001b[1;31m# Initialize with Simple-Response defaults\u001b[0m\u001b[1;33m\u001b[0m\u001b[1;33m\u001b[0m\u001b[0m\n\u001b[0;32m--> 394\u001b[0;31m         \u001b[0mline\u001b[0m \u001b[1;33m=\u001b[0m \u001b[0mself\u001b[0m\u001b[1;33m.\u001b[0m\u001b[0mfp\u001b[0m\u001b[1;33m.\u001b[0m\u001b[0mreadline\u001b[0m\u001b[1;33m(\u001b[0m\u001b[0m_MAXLINE\u001b[0m \u001b[1;33m+\u001b[0m \u001b[1;36m1\u001b[0m\u001b[1;33m)\u001b[0m\u001b[1;33m\u001b[0m\u001b[0m\n\u001b[0m\u001b[1;32m    395\u001b[0m         \u001b[1;32mif\u001b[0m \u001b[0mlen\u001b[0m\u001b[1;33m(\u001b[0m\u001b[0mline\u001b[0m\u001b[1;33m)\u001b[0m \u001b[1;33m>\u001b[0m \u001b[0m_MAXLINE\u001b[0m\u001b[1;33m:\u001b[0m\u001b[1;33m\u001b[0m\u001b[0m\n\u001b[1;32m    396\u001b[0m             \u001b[1;32mraise\u001b[0m \u001b[0mLineTooLong\u001b[0m\u001b[1;33m(\u001b[0m\u001b[1;34m\"header line\"\u001b[0m\u001b[1;33m)\u001b[0m\u001b[1;33m\u001b[0m\u001b[0m\n",
      "\u001b[0;32mC:\\Pedro\\Anaconda\\envs\\py27\\lib\\socket.pyc\u001b[0m in \u001b[0;36mreadline\u001b[0;34m(self, size)\u001b[0m\n\u001b[1;32m    478\u001b[0m             \u001b[1;32mwhile\u001b[0m \u001b[0mTrue\u001b[0m\u001b[1;33m:\u001b[0m\u001b[1;33m\u001b[0m\u001b[0m\n\u001b[1;32m    479\u001b[0m                 \u001b[1;32mtry\u001b[0m\u001b[1;33m:\u001b[0m\u001b[1;33m\u001b[0m\u001b[0m\n\u001b[0;32m--> 480\u001b[0;31m                     \u001b[0mdata\u001b[0m \u001b[1;33m=\u001b[0m \u001b[0mself\u001b[0m\u001b[1;33m.\u001b[0m\u001b[0m_sock\u001b[0m\u001b[1;33m.\u001b[0m\u001b[0mrecv\u001b[0m\u001b[1;33m(\u001b[0m\u001b[0mself\u001b[0m\u001b[1;33m.\u001b[0m\u001b[0m_rbufsize\u001b[0m\u001b[1;33m)\u001b[0m\u001b[1;33m\u001b[0m\u001b[0m\n\u001b[0m\u001b[1;32m    481\u001b[0m                 \u001b[1;32mexcept\u001b[0m \u001b[0merror\u001b[0m\u001b[1;33m,\u001b[0m \u001b[0me\u001b[0m\u001b[1;33m:\u001b[0m\u001b[1;33m\u001b[0m\u001b[0m\n\u001b[1;32m    482\u001b[0m                     \u001b[1;32mif\u001b[0m \u001b[0me\u001b[0m\u001b[1;33m.\u001b[0m\u001b[0margs\u001b[0m\u001b[1;33m[\u001b[0m\u001b[1;36m0\u001b[0m\u001b[1;33m]\u001b[0m \u001b[1;33m==\u001b[0m \u001b[0mEINTR\u001b[0m\u001b[1;33m:\u001b[0m\u001b[1;33m\u001b[0m\u001b[0m\n",
      "\u001b[0;31merror\u001b[0m: [Errno 10054] An existing connection was forcibly closed by the remote host"
     ]
    }
   ],
   "source": [
    "# POST NEW\n",
    "\n",
    "print('Requesting Voeazul website')\n",
    "params = urllib.urlencode({'__EVENTTARGET': 'SearchControlGroupAvailabilityView$LinkButtonSubmit',\n",
    "                           #'__EVENTARGUMENT': ,\n",
    "                           '__VIEWSTATE': '/wEPDwUBMGRk8HVTGURCOI8ogJjuxnKVJYjGv9I=',\n",
    "                           #'pageToken': ,\n",
    "                           #'_authkey_': ,\n",
    "                           'loginDomain': 'AZUL_LOGIN',\n",
    "                           'NavigationHeaderInputAvailabilityView$MemberLoginAvailabilityView$TextBoxUserID': '08963551601',\n",
    "                           #'NavigationHeaderInputAvailabilityView$MemberLoginAvailabilityView$PasswordFieldPassword': ,\n",
    "                           #'AvailabilityInputAvailabilityView$market1': ,\n",
    "                           #'login-ta': ,\n",
    "                           #'password-ta': ,\n",
    "                           'SearchControlGroupAvailabilityView$SearchControlAvailabilityView$RadioButtonMarketStructure': 'OneWay',\n",
    "                           'SearchControlGroupAvailabilityView$SearchControlAvailabilityView$TextBoxMarketOrigin1': 'Florianópolis (FLN)                                        ',\n",
    "                           #'SearchControlGroupAvailabilityView$SearchControlAvailabilityView$CheckBoxUseMacOrigin1': ,\n",
    "                           #'hdfSearchCodeDeparture1': ,\n",
    "                           'SearchControlGroupAvailabilityView$SearchControlAvailabilityView$TextBoxMarketDestination1': 'Belo Horizonte - Confins (CNF)                                        ',\n",
    "                           #'SearchControlGroupAvailabilityView$SearchControlAvailabilityView$CheckBoxUseMacDestination1': ,\n",
    "                           #'hdfSearchCodeArrival1': ,\n",
    "                           'departure1': '21/04/2017',\n",
    "                           'SearchControlGroupAvailabilityView$SearchControlAvailabilityView$DropDownListMarketDay1': 21,\n",
    "                           'SearchControlGroupAvailabilityView$SearchControlAvailabilityView$DropDownListMarketMonth1': '2017-04',\n",
    "                           #'arrival': ,\n",
    "                           #'SearchControlGroupAvailabilityView$SearchControlAvailabilityView$DropDownListMarketDay2': ,\n",
    "                           #'SearchControlGroupAvailabilityView$SearchControlAvailabilityView$DropDownListMarketMonth2': ,\n",
    "                           'origin2': 'Belo Horizonte - Confins (CNF)                                            ',\n",
    "                           'SearchControlGroupAvailabilityView$SearchControlAvailabilityView$TextBoxMarketOrigin2': 'Belo Horizonte - Confins (CNF)                                            ',\n",
    "                           #'SearchControlGroupAvailabilityView$SearchControlAvailabilityView$CheckBoxUseMacOrigin2': '',\n",
    "                           #'hdfSearchCodeDeparture2': ,\n",
    "                           'destination2': 'Florianópolis (FLN)                                            ',\n",
    "                           'SearchControlGroupAvailabilityView$SearchControlAvailabilityView$TextBoxMarketDestination2': 'Florianópolis (FLN)                                            ',\n",
    "                           #'SearchControlGroupAvailabilityView$SearchControlAvailabilityView$CheckBoxUseMacDestination2': ,\n",
    "                           #'hdfSearchCodeArrival2': ,\n",
    "                           #'departure2': ,\n",
    "                           'SearchControlGroupAvailabilityView$SearchControlAvailabilityView$DropDownListPassengerType_ADT': 1,\n",
    "                           'SearchControlGroupAvailabilityView$SearchControlAvailabilityView$DropDownListPassengerType_CHD': 0,\n",
    "                           'SearchControlGroupAvailabilityView$SearchControlAvailabilityView$DropDownListPassengerType_INFANT': 0,\n",
    "                           'faretypes': 'R',\n",
    "                           'SearchControlGroupAvailabilityView$SearchControlAvailabilityView$DropDownListSearchBy': 'columnView',\n",
    "                           'SearchControlGroupAvailabilityView$SearchControlAvailabilityView$DropDownListFareTypes': 'R'\n",
    "                          })\n",
    "#print params\n",
    "headers = {\"Content-type\": \"application/x-www-form-urlencoded\", \n",
    "           \"Accept\": \"text/html,application/xhtml+xml,application/xml;q=0.9,image/webp,*/*;q=0.8\",\n",
    "           \"Accept-Encoding\": \"gzip, deflate, br\",\n",
    "           \"Accept-Language\": \"en-US,en;q=0.8\",\n",
    "           \"Cache-Control\": \"max-age=0\",\n",
    "           \"Connection\": \"keep-alive\",\n",
    "           \"Content-Length\": \"3008\",\n",
    "           \"Host\": \"viajemais.voeazul.com.br\",\n",
    "           \"Origin\": \"https://viajemais.voeazul.com.br\",\n",
    "           \"Referer\": \"https://viajemais.voeazul.com.br/Availability.aspx\",\n",
    "           \"Upgrade-Insecure-Requests\": 1,\n",
    "           \"User-Agent\": \"Mozilla/5.0 (Windows NT 10.0; WOW64) AppleWebKit/537.36 (KHTML, like Gecko) Chrome/56.0.2924.87 Safari/537.36\"\n",
    "          }\n",
    "conn = httplib.HTTPConnection(\"104.105.131.94:443\")\n",
    "conn.request(\"POST\", \"\", params, headers)\n",
    "response = conn.getresponse()\n",
    "print response.status, response.reason\n",
    "\n",
    "data = response.read()\n",
    "data\n",
    "\n",
    "conn.close()"
   ]
  },
  {
   "cell_type": "code",
   "execution_count": 5,
   "metadata": {
    "collapsed": false
   },
   "outputs": [
    {
     "name": "stdout",
     "output_type": "stream",
     "text": [
      "Requesting LATAM website\n"
     ]
    },
    {
     "ename": "InvalidURL",
     "evalue": "nonnumeric port: '443adults=1&SITE=JJBKJJBK&TRIP_TYPE=O&WDS_MARKET=BR&children=0&LANGUAGE=BR&MARKETING_CABIN=E&B_LOCATION_1=FLN&E_LOCATION_1=CNF&infants=0&B_DATE_1=201704140000'",
     "output_type": "error",
     "traceback": [
      "\u001b[0;31m---------------------------------------------------------------------------\u001b[0m",
      "\u001b[0;31mInvalidURL\u001b[0m                                Traceback (most recent call last)",
      "\u001b[0;32m<ipython-input-5-c9cf6c3a241e>\u001b[0m in \u001b[0;36m<module>\u001b[0;34m()\u001b[0m\n\u001b[1;32m     16\u001b[0m }\n\u001b[1;32m     17\u001b[0m \u001b[0murl\u001b[0m \u001b[1;33m=\u001b[0m \u001b[1;34m\"23.37.209.157:443%s\"\u001b[0m \u001b[1;33m%\u001b[0m \u001b[1;33m(\u001b[0m\u001b[0mparams\u001b[0m\u001b[1;33m)\u001b[0m\u001b[1;33m\u001b[0m\u001b[0m\n\u001b[0;32m---> 18\u001b[0;31m \u001b[0mconn\u001b[0m \u001b[1;33m=\u001b[0m \u001b[0mhttplib\u001b[0m\u001b[1;33m.\u001b[0m\u001b[0mHTTPSConnection\u001b[0m\u001b[1;33m(\u001b[0m\u001b[0murl\u001b[0m\u001b[1;33m,\u001b[0m \u001b[0mcontext\u001b[0m\u001b[1;33m=\u001b[0m\u001b[0mssl\u001b[0m\u001b[1;33m.\u001b[0m\u001b[0m_create_unverified_context\u001b[0m\u001b[1;33m(\u001b[0m\u001b[1;33m)\u001b[0m\u001b[1;33m)\u001b[0m\u001b[1;33m\u001b[0m\u001b[0m\n\u001b[0m\u001b[1;32m     19\u001b[0m \u001b[0mconn\u001b[0m\u001b[1;33m.\u001b[0m\u001b[0mrequest\u001b[0m\u001b[1;33m(\u001b[0m\u001b[1;34m\"GET\"\u001b[0m\u001b[1;33m,\u001b[0m \u001b[1;34m\"/\"\u001b[0m\u001b[1;33m,\u001b[0m \u001b[0mheaders\u001b[0m\u001b[1;33m=\u001b[0m\u001b[0mheaders\u001b[0m\u001b[1;33m)\u001b[0m\u001b[1;33m\u001b[0m\u001b[0m\n\u001b[1;32m     20\u001b[0m \u001b[0mresponse\u001b[0m \u001b[1;33m=\u001b[0m \u001b[0mconn\u001b[0m\u001b[1;33m.\u001b[0m\u001b[0mgetresponse\u001b[0m\u001b[1;33m(\u001b[0m\u001b[1;33m)\u001b[0m\u001b[1;33m\u001b[0m\u001b[0m\n",
      "\u001b[0;32mC:\\Pedro\\Anaconda\\envs\\py27\\lib\\httplib.pyc\u001b[0m in \u001b[0;36m__init__\u001b[0;34m(self, host, port, key_file, cert_file, strict, timeout, source_address, context)\u001b[0m\n\u001b[1;32m   1241\u001b[0m                      source_address=None, context=None):\n\u001b[1;32m   1242\u001b[0m             HTTPConnection.__init__(self, host, port, strict, timeout,\n\u001b[0;32m-> 1243\u001b[0;31m                                     source_address)\n\u001b[0m\u001b[1;32m   1244\u001b[0m             \u001b[0mself\u001b[0m\u001b[1;33m.\u001b[0m\u001b[0mkey_file\u001b[0m \u001b[1;33m=\u001b[0m \u001b[0mkey_file\u001b[0m\u001b[1;33m\u001b[0m\u001b[0m\n\u001b[1;32m   1245\u001b[0m             \u001b[0mself\u001b[0m\u001b[1;33m.\u001b[0m\u001b[0mcert_file\u001b[0m \u001b[1;33m=\u001b[0m \u001b[0mcert_file\u001b[0m\u001b[1;33m\u001b[0m\u001b[0m\n",
      "\u001b[0;32mC:\\Pedro\\Anaconda\\envs\\py27\\lib\\httplib.pyc\u001b[0m in \u001b[0;36m__init__\u001b[0;34m(self, host, port, strict, timeout, source_address)\u001b[0m\n\u001b[1;32m    734\u001b[0m             \u001b[0mself\u001b[0m\u001b[1;33m.\u001b[0m\u001b[0mstrict\u001b[0m \u001b[1;33m=\u001b[0m \u001b[0mstrict\u001b[0m\u001b[1;33m\u001b[0m\u001b[0m\n\u001b[1;32m    735\u001b[0m \u001b[1;33m\u001b[0m\u001b[0m\n\u001b[0;32m--> 736\u001b[0;31m         \u001b[1;33m(\u001b[0m\u001b[0mself\u001b[0m\u001b[1;33m.\u001b[0m\u001b[0mhost\u001b[0m\u001b[1;33m,\u001b[0m \u001b[0mself\u001b[0m\u001b[1;33m.\u001b[0m\u001b[0mport\u001b[0m\u001b[1;33m)\u001b[0m \u001b[1;33m=\u001b[0m \u001b[0mself\u001b[0m\u001b[1;33m.\u001b[0m\u001b[0m_get_hostport\u001b[0m\u001b[1;33m(\u001b[0m\u001b[0mhost\u001b[0m\u001b[1;33m,\u001b[0m \u001b[0mport\u001b[0m\u001b[1;33m)\u001b[0m\u001b[1;33m\u001b[0m\u001b[0m\n\u001b[0m\u001b[1;32m    737\u001b[0m \u001b[1;33m\u001b[0m\u001b[0m\n\u001b[1;32m    738\u001b[0m         \u001b[1;31m# This is stored as an instance variable to allow unittests\u001b[0m\u001b[1;33m\u001b[0m\u001b[1;33m\u001b[0m\u001b[0m\n",
      "\u001b[0;32mC:\\Pedro\\Anaconda\\envs\\py27\\lib\\httplib.pyc\u001b[0m in \u001b[0;36m_get_hostport\u001b[0;34m(self, host, port)\u001b[0m\n\u001b[1;32m    775\u001b[0m                         \u001b[0mport\u001b[0m \u001b[1;33m=\u001b[0m \u001b[0mself\u001b[0m\u001b[1;33m.\u001b[0m\u001b[0mdefault_port\u001b[0m\u001b[1;33m\u001b[0m\u001b[0m\n\u001b[1;32m    776\u001b[0m                     \u001b[1;32melse\u001b[0m\u001b[1;33m:\u001b[0m\u001b[1;33m\u001b[0m\u001b[0m\n\u001b[0;32m--> 777\u001b[0;31m                         \u001b[1;32mraise\u001b[0m \u001b[0mInvalidURL\u001b[0m\u001b[1;33m(\u001b[0m\u001b[1;34m\"nonnumeric port: '%s'\"\u001b[0m \u001b[1;33m%\u001b[0m \u001b[0mhost\u001b[0m\u001b[1;33m[\u001b[0m\u001b[0mi\u001b[0m\u001b[1;33m+\u001b[0m\u001b[1;36m1\u001b[0m\u001b[1;33m:\u001b[0m\u001b[1;33m]\u001b[0m\u001b[1;33m)\u001b[0m\u001b[1;33m\u001b[0m\u001b[0m\n\u001b[0m\u001b[1;32m    778\u001b[0m                 \u001b[0mhost\u001b[0m \u001b[1;33m=\u001b[0m \u001b[0mhost\u001b[0m\u001b[1;33m[\u001b[0m\u001b[1;33m:\u001b[0m\u001b[0mi\u001b[0m\u001b[1;33m]\u001b[0m\u001b[1;33m\u001b[0m\u001b[0m\n\u001b[1;32m    779\u001b[0m             \u001b[1;32melse\u001b[0m\u001b[1;33m:\u001b[0m\u001b[1;33m\u001b[0m\u001b[0m\n",
      "\u001b[0;31mInvalidURL\u001b[0m: nonnumeric port: '443adults=1&SITE=JJBKJJBK&TRIP_TYPE=O&WDS_MARKET=BR&children=0&LANGUAGE=BR&MARKETING_CABIN=E&B_LOCATION_1=FLN&E_LOCATION_1=CNF&infants=0&B_DATE_1=201704140000'"
     ]
    }
   ],
   "source": [
    "# GET NEW\n",
    "\n",
    "# B_LOCATION_1=FLN&E_LOCATION_1=CNF&TRIP_TYPE=O&B_DATE_1=201704140000&adults=1&children=0&infants=0&LANGUAGE=BR&SITE=JJBKJJBK&WDS_MARKET=BR&MARKETING_CABIN=E\n",
    "\n",
    "print('Requesting LATAM website')\n",
    "params = urllib.urlencode({'B_LOCATION_1':'FLN','E_LOCATION_1':'CNF','TRIP_TYPE':'O','B_DATE_1':'201704140000','adults':'1','children':'0','infants':'0','LANGUAGE':'BR','SITE':'JJBKJJBK','WDS_MARKET':'BR', 'MARKETING_CABIN': 'E'})\n",
    "#print params\n",
    "headers = {\n",
    "\"authority\": \"book.latam.com\",\n",
    "\"method\":\"GET\",\n",
    "\"path\":\"/TAM/dyn/air/booking/upslDispatcher?B_LOCATION_1=FLN&E_LOCATION_1=CNF&TRIP_TYPE=O&B_DATE_1=201704140000&adults=1&children=0&infants=0&LANGUAGE=BR&SITE=JJBKJJBK&WDS_MARKET=BR&MARKETING_CABIN=E\",\n",
    "\"scheme\":\"https\",\n",
    "\"accept\":\"text/html,application/xhtml+xml,application/xml;q=0.9,image/webp,*/*;q=0.8\",\n",
    "\"accept-encoding\":\"gzip, deflate, sdch, br\",\n",
    "\"accept-language\":\"en-US,en;q=0.8\"\n",
    "}\n",
    "url = \"23.37.209.157:443%s\" % (params)\n",
    "conn = httplib.HTTPSConnection(url, context=ssl._create_unverified_context())\n",
    "conn.request(\"GET\", \"/\", headers=headers)\n",
    "response = conn.getresponse()\n",
    "print(response.status, response.reason)\n",
    "\n",
    "data = response.read()\n",
    "data\n",
    "\n",
    "conn.close()"
   ]
  },
  {
   "cell_type": "code",
   "execution_count": 6,
   "metadata": {
    "collapsed": false,
    "scrolled": false
   },
   "outputs": [],
   "source": [
    "params = urllib.urlencode({'B_LOCATION_1':'FLN','E_LOCATION_1':'CNF','TRIP_TYPE':'O','B_DATE_1':'201704140000','adults':'1','children':'0','infants':'0','LANGUAGE':'BR','SITE':'JJBKJJBK','WDS_MARKET':'BR', 'MARKETING_CABIN': 'E'})\n",
    "r = requests.get('https://book.latam.com/TAM/dyn/air/booking/upslDispatcher', params=params)\n",
    "tree = html.fromstring(r.content)\n",
    "#print r.content\n",
    "\n",
    "#buyers = tree.xpath('//div[@title=\"buyer-name\"]/text()')\n",
    "#prices = tree.xpath('//span[@class=\"item-price\"]/text()')\n",
    "rows = tree.xpath('//tr[@class=\"flight flightId-1 flightType-Connection\"]')"
   ]
  },
  {
   "cell_type": "code",
   "execution_count": 7,
   "metadata": {
    "collapsed": false
   },
   "outputs": [
    {
     "name": "stdout",
     "output_type": "stream",
     "text": [
      "{'data-flightnumber': 'JJ3100', 'data-baggage-allowance': '', 'data-number-of-stops': '0', 'data-airlinecode': 'JJ', 'data-departurecitycode': 'FLN', 'data-airlinecompany': 'LATAM Airlines Brasil', 'data-arrivaltime': '1492154400000', 'data-baggage-allowance-link': 'https://www.latam.com/pt_br/informacao-para-sua-viagem/bagagem/bagagem-de-mao/', 'data-nextday': '0', 'data-arrivalairportcode': 'CGH', 'data-rpduration': '    4200000   ', 'data-arrivalcitycode': 'SAO', 'data-departureairportcode': 'FLN', 'data-departuretime': '1492150200000', 'data-operatedby': 'JJ', 'data-aircraft': 'Airbus Industrie A320', 'class': 'flight flightId-1 flightType-Connection', 'data-anac-link': 'https://www.latam.com/pt_br/conheca-nos/sobre-nos/nossa-frota/B777/', 'data-departuredate': 'Fri Apr 14 06:10:00 GMT 2017', 'data-blocationfull': u'Herc\\xedlio Luz International', 'data-elocationfull': 'Congonhas', 'data-arrivaldate': 'Fri Apr 14 07:20:00 GMT 2017', 'data-ontime-performance': 'https://www.latam.com/b2c/jsp/latam/viajefacil/anac/pontualidadeVooTemp.jsp?airline=JJ&flightNumber=3100&date=20170414'}\n",
      "\n"
     ]
    },
    {
     "data": {
      "text/plain": [
       "'JJ3100'"
      ]
     },
     "execution_count": 7,
     "metadata": {},
     "output_type": "execute_result"
    }
   ],
   "source": [
    "print(rows[0].attrib)\n",
    "print('')\n",
    "rows[0].attrib['data-flightnumber']"
   ]
  }
 ],
 "metadata": {
  "kernelspec": {
   "display_name": "Python 2",
   "language": "python",
   "name": "python2"
  },
  "language_info": {
   "codemirror_mode": {
    "name": "ipython",
    "version": 2
   },
   "file_extension": ".py",
   "mimetype": "text/x-python",
   "name": "python",
   "nbconvert_exporter": "python",
   "pygments_lexer": "ipython2",
   "version": "2.7.13"
  }
 },
 "nbformat": 4,
 "nbformat_minor": 0
}
