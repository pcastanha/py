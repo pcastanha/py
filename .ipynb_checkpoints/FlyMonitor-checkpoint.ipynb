{
 "cells": [
  {
   "cell_type": "code",
   "execution_count": 2,
   "metadata": {
    "collapsed": false
   },
   "outputs": [],
   "source": [
    "import ssl\n",
    "import urllib\n",
    "#import httplib\n",
    "import requests\n",
    "\n",
    "from lxml import html"
   ]
  },
  {
   "cell_type": "code",
   "execution_count": null,
   "metadata": {
    "collapsed": false
   },
   "outputs": [],
   "source": [
    "# GET\n",
    "\n",
    "#conn = httplib.HTTPSConnection(\"www.python.org\")\n",
    "conn = httplib.HTTPSConnection(\"208.72.8.246:443\", context=ssl._create_unverified_context())\n",
    "headers = {\"Content-type\": \"application/x-www-form-urlencoded\", \"Accept\": \"text/plain\", \n",
    "           \"Accept-Encoding\": \"gzip, deflate, sdch, br\"}\n",
    "\"\"\"\n",
    "text/html,application/xhtml+xml,application/xml;q=0.9,image/webp,*/*;q=0.8\n",
    "\"\"\"\n",
    "conn.request(\"GET\", \"/\", headers=headers)\n",
    "r1 = conn.getresponse()\n",
    "print r1.status, r1.reason\n",
    "print r1.getheaders()\n",
    "\n",
    "data1 = r1.read()\n",
    "conn.request(\"GET\", \"/\")\n",
    "r2 = conn.getresponse()\n",
    "print r2.status, r2.reason\n",
    "\n",
    "data2 = r2.read()\n",
    "conn.close()\n",
    "\n",
    "# POST\n",
    "\n",
    "params = urllib.urlencode({'@number': 12524, '@type': 'issue', '@action': 'show'})\n",
    "headers = {\"Content-type\": \"application/x-www-form-urlencoded\", \"Accept\": \"text/plain\"}\n",
    "conn = httplib.HTTPConnection(\"bugs.python.org\")\n",
    "conn.request(\"POST\", \"\", params, headers)\n",
    "response = conn.getresponse()\n",
    "print response.status, response.reason\n",
    "\n",
    "data = response.read()\n",
    "data\n",
    "\n",
    "conn.close()"
   ]
  },
  {
   "cell_type": "code",
   "execution_count": null,
   "metadata": {
    "collapsed": false
   },
   "outputs": [],
   "source": [
    "# POST NEW\n",
    "\n",
    "print('Requesting Voeazul website')\n",
    "params = urllib.urlencode({'__EVENTTARGET': 'SearchControlGroupAvailabilityView$LinkButtonSubmit',\n",
    "                           #'__EVENTARGUMENT': ,\n",
    "                           '__VIEWSTATE': '/wEPDwUBMGRk8HVTGURCOI8ogJjuxnKVJYjGv9I=',\n",
    "                           #'pageToken': ,\n",
    "                           #'_authkey_': ,\n",
    "                           'loginDomain': 'AZUL_LOGIN',\n",
    "                           'NavigationHeaderInputAvailabilityView$MemberLoginAvailabilityView$TextBoxUserID': '08963551601',\n",
    "                           #'NavigationHeaderInputAvailabilityView$MemberLoginAvailabilityView$PasswordFieldPassword': ,\n",
    "                           #'AvailabilityInputAvailabilityView$market1': ,\n",
    "                           #'login-ta': ,\n",
    "                           #'password-ta': ,\n",
    "                           'SearchControlGroupAvailabilityView$SearchControlAvailabilityView$RadioButtonMarketStructure': 'OneWay',\n",
    "                           'SearchControlGroupAvailabilityView$SearchControlAvailabilityView$TextBoxMarketOrigin1': 'Florianópolis (FLN)                                        ',\n",
    "                           #'SearchControlGroupAvailabilityView$SearchControlAvailabilityView$CheckBoxUseMacOrigin1': ,\n",
    "                           #'hdfSearchCodeDeparture1': ,\n",
    "                           'SearchControlGroupAvailabilityView$SearchControlAvailabilityView$TextBoxMarketDestination1': 'Belo Horizonte - Confins (CNF)                                        ',\n",
    "                           #'SearchControlGroupAvailabilityView$SearchControlAvailabilityView$CheckBoxUseMacDestination1': ,\n",
    "                           #'hdfSearchCodeArrival1': ,\n",
    "                           'departure1': '21/04/2017',\n",
    "                           'SearchControlGroupAvailabilityView$SearchControlAvailabilityView$DropDownListMarketDay1': 21,\n",
    "                           'SearchControlGroupAvailabilityView$SearchControlAvailabilityView$DropDownListMarketMonth1': '2017-04',\n",
    "                           #'arrival': ,\n",
    "                           #'SearchControlGroupAvailabilityView$SearchControlAvailabilityView$DropDownListMarketDay2': ,\n",
    "                           #'SearchControlGroupAvailabilityView$SearchControlAvailabilityView$DropDownListMarketMonth2': ,\n",
    "                           'origin2': 'Belo Horizonte - Confins (CNF)                                            ',\n",
    "                           'SearchControlGroupAvailabilityView$SearchControlAvailabilityView$TextBoxMarketOrigin2': 'Belo Horizonte - Confins (CNF)                                            ',\n",
    "                           #'SearchControlGroupAvailabilityView$SearchControlAvailabilityView$CheckBoxUseMacOrigin2': '',\n",
    "                           #'hdfSearchCodeDeparture2': ,\n",
    "                           'destination2': 'Florianópolis (FLN)                                            ',\n",
    "                           'SearchControlGroupAvailabilityView$SearchControlAvailabilityView$TextBoxMarketDestination2': 'Florianópolis (FLN)                                            ',\n",
    "                           #'SearchControlGroupAvailabilityView$SearchControlAvailabilityView$CheckBoxUseMacDestination2': ,\n",
    "                           #'hdfSearchCodeArrival2': ,\n",
    "                           #'departure2': ,\n",
    "                           'SearchControlGroupAvailabilityView$SearchControlAvailabilityView$DropDownListPassengerType_ADT': 1,\n",
    "                           'SearchControlGroupAvailabilityView$SearchControlAvailabilityView$DropDownListPassengerType_CHD': 0,\n",
    "                           'SearchControlGroupAvailabilityView$SearchControlAvailabilityView$DropDownListPassengerType_INFANT': 0,\n",
    "                           'faretypes': 'R',\n",
    "                           'SearchControlGroupAvailabilityView$SearchControlAvailabilityView$DropDownListSearchBy': 'columnView',\n",
    "                           'SearchControlGroupAvailabilityView$SearchControlAvailabilityView$DropDownListFareTypes': 'R'\n",
    "                          })\n",
    "#print params\n",
    "headers = {\"Content-type\": \"application/x-www-form-urlencoded\", \n",
    "           \"Accept\": \"text/html,application/xhtml+xml,application/xml;q=0.9,image/webp,*/*;q=0.8\",\n",
    "           \"Accept-Encoding\": \"gzip, deflate, br\",\n",
    "           \"Accept-Language\": \"en-US,en;q=0.8\",\n",
    "           \"Cache-Control\": \"max-age=0\",\n",
    "           \"Connection\": \"keep-alive\",\n",
    "           \"Content-Length\": \"3008\",\n",
    "           \"Host\": \"viajemais.voeazul.com.br\",\n",
    "           \"Origin\": \"https://viajemais.voeazul.com.br\",\n",
    "           \"Referer\": \"https://viajemais.voeazul.com.br/Availability.aspx\",\n",
    "           \"Upgrade-Insecure-Requests\": 1,\n",
    "           \"User-Agent\": \"Mozilla/5.0 (Windows NT 10.0; WOW64) AppleWebKit/537.36 (KHTML, like Gecko) Chrome/56.0.2924.87 Safari/537.36\"\n",
    "          }\n",
    "conn = httplib.HTTPConnection(\"104.105.131.94:443\")\n",
    "conn.request(\"POST\", \"\", params, headers)\n",
    "response = conn.getresponse()\n",
    "print response.status, response.reason\n",
    "\n",
    "data = response.read()\n",
    "data\n",
    "\n",
    "conn.close()"
   ]
  },
  {
   "cell_type": "code",
   "execution_count": null,
   "metadata": {
    "collapsed": false
   },
   "outputs": [],
   "source": [
    "# GET NEW\n",
    "\n",
    "# B_LOCATION_1=FLN&E_LOCATION_1=CNF&TRIP_TYPE=O&B_DATE_1=201704140000&adults=1&children=0&infants=0&LANGUAGE=BR&SITE=JJBKJJBK&WDS_MARKET=BR&MARKETING_CABIN=E\n",
    "\n",
    "print('Requesting LATAM website')\n",
    "params = urllib.urlencode({'B_LOCATION_1':'FLN','E_LOCATION_1':'CNF','TRIP_TYPE':'O','B_DATE_1':'201704140000','adults':'1','children':'0','infants':'0','LANGUAGE':'BR','SITE':'JJBKJJBK','WDS_MARKET':'BR', 'MARKETING_CABIN': 'E'})\n",
    "#print params\n",
    "headers = {\n",
    "\"authority\": \"book.latam.com\",\n",
    "\"method\":\"GET\",\n",
    "\"path\":\"/TAM/dyn/air/booking/upslDispatcher?B_LOCATION_1=FLN&E_LOCATION_1=CNF&TRIP_TYPE=O&B_DATE_1=201704140000&adults=1&children=0&infants=0&LANGUAGE=BR&SITE=JJBKJJBK&WDS_MARKET=BR&MARKETING_CABIN=E\",\n",
    "\"scheme\":\"https\",\n",
    "\"accept\":\"text/html,application/xhtml+xml,application/xml;q=0.9,image/webp,*/*;q=0.8\",\n",
    "\"accept-encoding\":\"gzip, deflate, sdch, br\",\n",
    "\"accept-language\":\"en-US,en;q=0.8\"\n",
    "}\n",
    "url = \"23.37.209.157:443%s\" % (params)\n",
    "conn = httplib.HTTPSConnection(url, context=ssl._create_unverified_context())\n",
    "conn.request(\"GET\", \"/\", headers=headers)\n",
    "response = conn.getresponse()\n",
    "print(response.status, response.reason)\n",
    "\n",
    "data = response.read()\n",
    "data\n",
    "\n",
    "conn.close()"
   ]
  },
  {
   "cell_type": "code",
   "execution_count": 32,
   "metadata": {
    "collapsed": false,
    "scrolled": false
   },
   "outputs": [],
   "source": [
    "params = urllib.parse.urlencode({'B_LOCATION_1':'FLN','E_LOCATION_1':'CNF','TRIP_TYPE':'O','B_DATE_1':'201706140000','adults':'1','children':'0','infants':'0','LANGUAGE':'BR','SITE':'JJBKJJBK','WDS_MARKET':'BR', 'MARKETING_CABIN': 'E'})\n",
    "r = requests.get('https://book.latam.com/TAM/dyn/air/booking/upslDispatcher', params=params)\n",
    "tree = html.fromstring(r.content)"
   ]
  },
  {
   "cell_type": "code",
   "execution_count": 43,
   "metadata": {
    "collapsed": false
   },
   "outputs": [
    {
     "name": "stdout",
     "output_type": "stream",
     "text": [
      "   294,90  \n",
      "   294,90  \n",
      "   294,90  \n",
      "   294,90  \n",
      "   294,90  \n",
      "   294,90  \n",
      "   294,90  \n",
      "   294,90  \n",
      "\n"
     ]
    }
   ],
   "source": [
    "#rows = tree.xpath(\"//*[@id='outbound_list_flight']/tbody/tr[*]/td[6]\")\n",
    "rows = tree.xpath('//*[@id=\"outbound_list_flight\"]/tbody/tr[*]/td[5]/div/strong')\n",
    "\n",
    "for x in rows:\n",
    "    print(x.text)\n",
    "\n",
    "print('')"
   ]
  }
 ],
 "metadata": {
  "kernelspec": {
   "display_name": "Python 3",
   "language": "python",
   "name": "python3"
  },
  "language_info": {
   "codemirror_mode": {
    "name": "ipython",
    "version": 3
   },
   "file_extension": ".py",
   "mimetype": "text/x-python",
   "name": "python",
   "nbconvert_exporter": "python",
   "pygments_lexer": "ipython3",
   "version": "3.6.0"
  }
 },
 "nbformat": 4,
 "nbformat_minor": 0
}
