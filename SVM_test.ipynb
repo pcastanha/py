{
 "cells": [
  {
   "cell_type": "code",
   "execution_count": 1,
   "metadata": {
    "collapsed": true
   },
   "outputs": [],
   "source": [
    "%matplotlib inline\n",
    "import numpy as np\n",
    "import matplotlib.pyplot as plt\n",
    "from scipy import stats\n",
    "\n",
    "# use seaborn plotting defaults\n",
    "import seaborn as sns; sns.set()"
   ]
  },
  {
   "cell_type": "code",
   "execution_count": 2,
   "metadata": {
    "collapsed": false
   },
   "outputs": [
    {
     "data": {
      "image/png": "[encoded data removed]",
      "text/plain": [
       "<matplotlib.figure.Figure at 0x11f5b15bef0>"
      ]
     },
     "metadata": {},
     "output_type": "display_data"
    }
   ],
   "source": [
    "from sklearn.datasets.samples_generator import make_blobs\n",
    "X, y = make_blobs(n_samples=50, centers=2,\n",
    "                  random_state=0, cluster_std=0.60)\n",
    "plt.scatter(X[:, 0], X[:, 1], c=y, s=50, cmap='spring');"
   ]
  },
  {
   "cell_type": "code",
   "execution_count": 3,
   "metadata": {
    "collapsed": false
   },
   "outputs": [
    {
     "data": {
      "text/plain": [
       "SVC(C=1.0, cache_size=200, class_weight=None, coef0=0.0,\n",
       "  decision_function_shape=None, degree=3, gamma='auto', kernel='linear',\n",
       "  max_iter=-1, probability=False, random_state=None, shrinking=True,\n",
       "  tol=0.001, verbose=False)"
      ]
     },
     "execution_count": 3,
     "metadata": {},
     "output_type": "execute_result"
    }
   ],
   "source": [
    "from sklearn.svm import SVC # \"Support Vector Classifier\"\n",
    "clf = SVC(kernel='linear')\n",
    "clf.fit(X, y)"
   ]
  },
  {
   "cell_type": "code",
   "execution_count": 4,
   "metadata": {
    "collapsed": true
   },
   "outputs": [],
   "source": [
    "from sklearn import datasets\n",
    "iris = datasets.load_iris()\n",
    "digits = datasets.load_digits()"
   ]
  },
  {
   "cell_type": "code",
   "execution_count": 8,
   "metadata": {
    "collapsed": false
   },
   "outputs": [
    {
     "name": "stdout",
     "output_type": "stream",
     "text": [
      "[[  0.   0.   5. ...,   0.   0.   0.]\n",
      " [  0.   0.   0. ...,  10.   0.   0.]\n",
      " [  0.   0.   0. ...,  16.   9.   0.]\n",
      " ..., \n",
      " [  0.   0.   1. ...,   6.   0.   0.]\n",
      " [  0.   0.   2. ...,  12.   0.   0.]\n",
      " [  0.   0.  10. ...,  12.   1.   0.]]\n"
     ]
    }
   ],
   "source": [
    "print(digits.data)\n",
    "from sklearn import svm\n",
    "clf = svm.SVC(gamma=0.001, C=100.)"
   ]
  },
  {
   "cell_type": "code",
   "execution_count": 9,
   "metadata": {
    "collapsed": false
   },
   "outputs": [
    {
     "data": {
      "text/plain": [
       "array([0, 1, 2, ..., 8, 9, 8])"
      ]
     },
     "execution_count": 9,
     "metadata": {},
     "output_type": "execute_result"
    }
   ],
   "source": [
    "digits.target"
   ]
  },
  {
   "cell_type": "code",
   "execution_count": 10,
   "metadata": {
    "collapsed": true
   },
   "outputs": [],
   "source": [
    "from sklearn import svm\n",
    "clf = svm.SVC(gamma=0.001, C=100.)"
   ]
  },
  {
   "cell_type": "code",
   "execution_count": 11,
   "metadata": {
    "collapsed": false
   },
   "outputs": [
    {
     "data": {
      "text/plain": [
       "SVC(C=100.0, cache_size=200, class_weight=None, coef0=0.0,\n",
       "  decision_function_shape=None, degree=3, gamma=0.001, kernel='rbf',\n",
       "  max_iter=-1, probability=False, random_state=None, shrinking=True,\n",
       "  tol=0.001, verbose=False)"
      ]
     },
     "execution_count": 11,
     "metadata": {},
     "output_type": "execute_result"
    }
   ],
   "source": [
    "clf"
   ]
  },
  {
   "cell_type": "code",
   "execution_count": 12,
   "metadata": {
    "collapsed": false
   },
   "outputs": [
    {
     "data": {
      "text/plain": [
       "SVC(C=100.0, cache_size=200, class_weight=None, coef0=0.0,\n",
       "  decision_function_shape=None, degree=3, gamma=0.001, kernel='rbf',\n",
       "  max_iter=-1, probability=False, random_state=None, shrinking=True,\n",
       "  tol=0.001, verbose=False)"
      ]
     },
     "execution_count": 12,
     "metadata": {},
     "output_type": "execute_result"
    }
   ],
   "source": [
    "clf.fit(digits.data[:-1], digits.target[:-1])"
   ]
  },
  {
   "cell_type": "code",
   "execution_count": 13,
   "metadata": {
    "collapsed": false
   },
   "outputs": [
    {
     "data": {
      "text/plain": [
       "array([8])"
      ]
     },
     "execution_count": 13,
     "metadata": {},
     "output_type": "execute_result"
    }
   ],
   "source": [
    "clf.predict(digits.data[-1:])"
   ]
  },
  {
   "cell_type": "code",
   "execution_count": 14,
   "metadata": {
    "collapsed": true
   },
   "outputs": [],
   "source": [
    "from sklearn.svm import SVR"
   ]
  },
  {
   "cell_type": "code",
   "execution_count": 15,
   "metadata": {
    "collapsed": false
   },
   "outputs": [],
   "source": [
    "X = np.sort(5 * np.random.rand(40, 1), axis=0)\n",
    "y = np.sin(X).ravel()"
   ]
  },
  {
   "cell_type": "code",
   "execution_count": 16,
   "metadata": {
    "collapsed": true
   },
   "outputs": [],
   "source": [
    "import numpy as np\n",
    "X = np.sort(5 * np.random.rand(40, 1), axis=0)\n",
    "y = np.sin(X).ravel()"
   ]
  },
  {
   "cell_type": "code",
   "execution_count": 17,
   "metadata": {
    "collapsed": false
   },
   "outputs": [
    {
     "data": {
      "text/plain": [
       "array([[ 0.21095434],\n",
       "       [ 0.45455281],\n",
       "       [ 0.46324488],\n",
       "       [ 0.52649985],\n",
       "       [ 0.63767605],\n",
       "       [ 0.65970794],\n",
       "       [ 0.72952462],\n",
       "       [ 0.73007201],\n",
       "       [ 0.80558821],\n",
       "       [ 0.80559141],\n",
       "       [ 0.88471392],\n",
       "       [ 1.04392321],\n",
       "       [ 1.07877078],\n",
       "       [ 1.20982856],\n",
       "       [ 1.2752926 ],\n",
       "       [ 1.5237336 ],\n",
       "       [ 1.54698963],\n",
       "       [ 1.59396072],\n",
       "       [ 1.67667511],\n",
       "       [ 1.88711551],\n",
       "       [ 1.88820512],\n",
       "       [ 2.13095776],\n",
       "       [ 2.14922742],\n",
       "       [ 2.63248233],\n",
       "       [ 2.84536305],\n",
       "       [ 2.93307282],\n",
       "       [ 3.03554813],\n",
       "       [ 3.07664855],\n",
       "       [ 3.23086265],\n",
       "       [ 3.27597575],\n",
       "       [ 3.42020702],\n",
       "       [ 3.60440694],\n",
       "       [ 3.90075823],\n",
       "       [ 4.1583425 ],\n",
       "       [ 4.15925673],\n",
       "       [ 4.23683396],\n",
       "       [ 4.58501954],\n",
       "       [ 4.66002386],\n",
       "       [ 4.74260142],\n",
       "       [ 4.9255801 ]])"
      ]
     },
     "execution_count": 17,
     "metadata": {},
     "output_type": "execute_result"
    }
   ],
   "source": [
    "X"
   ]
  },
  {
   "cell_type": "code",
   "execution_count": 20,
   "metadata": {
    "collapsed": false
   },
   "outputs": [
    {
     "data": {
      "text/plain": [
       "array([ 0.20939318,  0.43906057,  0.44685335,  0.5025103 ,  0.5953298 ,\n",
       "        0.6128861 ,  0.66651532,  0.66692329,  0.72123821,  0.72124043,\n",
       "        0.77373379,  0.86438359,  0.88137777,  0.93555547,  0.95665557,\n",
       "        0.99889275,  0.99971663,  0.99973172,  0.99440008,  0.95038685,\n",
       "        0.95004734,  0.84716935,  0.83732142,  0.48740059,  0.29191612,\n",
       "        0.20701203,  0.10584588,  0.06489846, -0.08915148, -0.13397899,\n",
       "       -0.27502371, -0.44646809, -0.68831638, -0.8504025 , -0.85088316,\n",
       "       -0.88903875, -0.99189947, -0.99862926, -0.99954364, -0.97736072])"
      ]
     },
     "execution_count": 20,
     "metadata": {},
     "output_type": "execute_result"
    }
   ],
   "source": [
    "y"
   ]
  },
  {
   "cell_type": "code",
   "execution_count": 21,
   "metadata": {
    "collapsed": false
   },
   "outputs": [
    {
     "data": {
      "text/plain": [
       "array([ 0.20939318,  0.6128861 ,  0.77373379,  0.99889275,  0.95004734,\n",
       "        0.20701203, -0.27502371, -0.88903875])"
      ]
     },
     "execution_count": 21,
     "metadata": {},
     "output_type": "execute_result"
    }
   ],
   "source": [
    "y[::5]"
   ]
  },
  {
   "cell_type": "code",
   "execution_count": 22,
   "metadata": {
    "collapsed": false
   },
   "outputs": [
    {
     "data": {
      "text/plain": [
       "0.43906057214942124"
      ]
     },
     "execution_count": 22,
     "metadata": {},
     "output_type": "execute_result"
    }
   ],
   "source": [
    "y[1]"
   ]
  },
  {
   "cell_type": "code",
   "execution_count": 23,
   "metadata": {
    "collapsed": true
   },
   "outputs": [],
   "source": [
    "y[::5] += 3 * (0.5 - np.random.rand(8))"
   ]
  },
  {
   "cell_type": "code",
   "execution_count": 24,
   "metadata": {
    "collapsed": true
   },
   "outputs": [],
   "source": [
    "svr_rbf = SVR(kernel='rbf', C=1e3, gamma=0.1)\n",
    "svr_lin = SVR(kernel='linear', C=1e3)\n",
    "svr_poly = SVR(kernel='poly', C=1e3, degree=2)\n",
    "y_rbf = svr_rbf.fit(X, y).predict(X)\n",
    "y_lin = svr_lin.fit(X, y).predict(X)\n",
    "y_poly = svr_poly.fit(X, y).predict(X)"
   ]
  },
  {
   "cell_type": "code",
   "execution_count": 25,
   "metadata": {
    "collapsed": false
   },
   "outputs": [
    {
     "data": {
      "text/plain": [
       "array([-0.08232537,  0.33464298,  0.34718169,  0.43377356,  0.56671988,\n",
       "        0.59025615,  0.65894889,  0.65945279,  0.72396815,  0.72397067,\n",
       "        0.78131003,  0.86741027,  0.88143239,  0.92014225,  0.931781  ,\n",
       "        0.9357931 ,  0.9332764 ,  0.92684437,  0.91135241,  0.85045989,\n",
       "        0.85007133,  0.74685429,  0.73782476,  0.44346664,  0.2842667 ,\n",
       "        0.214461  ,  0.13034834,  0.09595626, -0.03554123, -0.07449774,\n",
       "       -0.19934091, -0.35617161, -0.58801773, -0.75102385, -0.75151666,\n",
       "       -0.79080826, -0.8976374 , -0.90416834, -0.9041784 , -0.87712817])"
      ]
     },
     "execution_count": 25,
     "metadata": {},
     "output_type": "execute_result"
    }
   ],
   "source": [
    "y_rbf"
   ]
  },
  {
   "cell_type": "code",
   "execution_count": 26,
   "metadata": {
    "collapsed": false
   },
   "outputs": [
    {
     "name": "stderr",
     "output_type": "stream",
     "text": [
      "C:\\Pedro\\Anaconda\\lib\\site-packages\\sklearn\\utils\\validation.py:395: DeprecationWarning: Passing 1d arrays as data is deprecated in 0.17 and will raise ValueError in 0.19. Reshape your data either using X.reshape(-1, 1) if your data has a single feature or X.reshape(1, -1) if it contains a single sample.\n",
      "  DeprecationWarning)\n"
     ]
    },
    {
     "data": {
      "text/plain": [
       "array([ 0.33464298])"
      ]
     },
     "execution_count": 26,
     "metadata": {},
     "output_type": "execute_result"
    }
   ],
   "source": [
    "svr_rbf.fit(X,y).predict(X[1])\n"
   ]
  },
  {
   "cell_type": "code",
   "execution_count": 27,
   "metadata": {
    "collapsed": false
   },
   "outputs": [
    {
     "data": {
      "text/plain": [
       "array([[ 0.21095434],\n",
       "       [ 0.45455281],\n",
       "       [ 0.46324488],\n",
       "       [ 0.52649985],\n",
       "       [ 0.63767605],\n",
       "       [ 0.65970794],\n",
       "       [ 0.72952462],\n",
       "       [ 0.73007201],\n",
       "       [ 0.80558821],\n",
       "       [ 0.80559141],\n",
       "       [ 0.88471392],\n",
       "       [ 1.04392321],\n",
       "       [ 1.07877078],\n",
       "       [ 1.20982856],\n",
       "       [ 1.2752926 ],\n",
       "       [ 1.5237336 ],\n",
       "       [ 1.54698963],\n",
       "       [ 1.59396072],\n",
       "       [ 1.67667511],\n",
       "       [ 1.88711551],\n",
       "       [ 1.88820512],\n",
       "       [ 2.13095776],\n",
       "       [ 2.14922742],\n",
       "       [ 2.63248233],\n",
       "       [ 2.84536305],\n",
       "       [ 2.93307282],\n",
       "       [ 3.03554813],\n",
       "       [ 3.07664855],\n",
       "       [ 3.23086265],\n",
       "       [ 3.27597575],\n",
       "       [ 3.42020702],\n",
       "       [ 3.60440694],\n",
       "       [ 3.90075823],\n",
       "       [ 4.1583425 ],\n",
       "       [ 4.15925673],\n",
       "       [ 4.23683396],\n",
       "       [ 4.58501954],\n",
       "       [ 4.66002386],\n",
       "       [ 4.74260142],\n",
       "       [ 4.9255801 ]])"
      ]
     },
     "execution_count": 27,
     "metadata": {},
     "output_type": "execute_result"
    }
   ],
   "source": [
    "X"
   ]
  },
  {
   "cell_type": "code",
   "execution_count": 28,
   "metadata": {
    "collapsed": false
   },
   "outputs": [
    {
     "data": {
      "text/plain": [
       "array([ 0.21095434,  0.45455281,  0.46324488,  0.52649985,  0.63767605,\n",
       "        0.65970794,  0.72952462,  0.73007201,  0.80558821,  0.80559141,\n",
       "        0.88471392,  1.04392321,  1.07877078,  1.20982856,  1.2752926 ,\n",
       "        1.5237336 ,  1.54698963,  1.59396072,  1.67667511,  1.88711551,\n",
       "        1.88820512,  2.13095776,  2.14922742,  2.63248233,  2.84536305,\n",
       "        2.93307282,  3.03554813,  3.07664855,  3.23086265,  3.27597575,\n",
       "        3.42020702,  3.60440694,  3.90075823,  4.1583425 ,  4.15925673,\n",
       "        4.23683396,  4.58501954,  4.66002386,  4.74260142,  4.9255801 ])"
      ]
     },
     "execution_count": 28,
     "metadata": {},
     "output_type": "execute_result"
    }
   ],
   "source": [
    "X.ravel()"
   ]
  },
  {
   "cell_type": "code",
   "execution_count": 29,
   "metadata": {
    "collapsed": false
   },
   "outputs": [
    {
     "data": {
      "text/plain": [
       "array([-0.08232537,  0.33464298,  0.34718169,  0.43377356,  0.56671988,\n",
       "        0.59025615,  0.65894889,  0.65945279,  0.72396815,  0.72397067,\n",
       "        0.78131003,  0.86741027,  0.88143239,  0.92014225,  0.931781  ,\n",
       "        0.9357931 ,  0.9332764 ,  0.92684437,  0.91135241,  0.85045989,\n",
       "        0.85007133,  0.74685429,  0.73782476,  0.44346664,  0.2842667 ,\n",
       "        0.214461  ,  0.13034834,  0.09595626, -0.03554123, -0.07449774,\n",
       "       -0.19934091, -0.35617161, -0.58801773, -0.75102385, -0.75151666,\n",
       "       -0.79080826, -0.8976374 , -0.90416834, -0.9041784 , -0.87712817])"
      ]
     },
     "execution_count": 29,
     "metadata": {},
     "output_type": "execute_result"
    }
   ],
   "source": [
    "svr_rbf.fit(X,y).predict(X.reshape(-1,1))"
   ]
  },
  {
   "cell_type": "code",
   "execution_count": 30,
   "metadata": {
    "collapsed": false
   },
   "outputs": [
    {
     "data": {
      "text/plain": [
       "array([[ 0.21095434],\n",
       "       [ 0.45455281],\n",
       "       [ 0.46324488],\n",
       "       [ 0.52649985],\n",
       "       [ 0.63767605],\n",
       "       [ 0.65970794],\n",
       "       [ 0.72952462],\n",
       "       [ 0.73007201],\n",
       "       [ 0.80558821],\n",
       "       [ 0.80559141],\n",
       "       [ 0.88471392],\n",
       "       [ 1.04392321],\n",
       "       [ 1.07877078],\n",
       "       [ 1.20982856],\n",
       "       [ 1.2752926 ],\n",
       "       [ 1.5237336 ],\n",
       "       [ 1.54698963],\n",
       "       [ 1.59396072],\n",
       "       [ 1.67667511],\n",
       "       [ 1.88711551],\n",
       "       [ 1.88820512],\n",
       "       [ 2.13095776],\n",
       "       [ 2.14922742],\n",
       "       [ 2.63248233],\n",
       "       [ 2.84536305],\n",
       "       [ 2.93307282],\n",
       "       [ 3.03554813],\n",
       "       [ 3.07664855],\n",
       "       [ 3.23086265],\n",
       "       [ 3.27597575],\n",
       "       [ 3.42020702],\n",
       "       [ 3.60440694],\n",
       "       [ 3.90075823],\n",
       "       [ 4.1583425 ],\n",
       "       [ 4.15925673],\n",
       "       [ 4.23683396],\n",
       "       [ 4.58501954],\n",
       "       [ 4.66002386],\n",
       "       [ 4.74260142],\n",
       "       [ 4.9255801 ]])"
      ]
     },
     "execution_count": 30,
     "metadata": {},
     "output_type": "execute_result"
    }
   ],
   "source": [
    "X"
   ]
  },
  {
   "cell_type": "code",
   "execution_count": 31,
   "metadata": {
    "collapsed": false
   },
   "outputs": [],
   "source": [
    "Xc = np.sort(5 * np.random.rand(20, 1), axis=0)"
   ]
  },
  {
   "cell_type": "code",
   "execution_count": 32,
   "metadata": {
    "collapsed": false
   },
   "outputs": [],
   "source": [
    "y_rbf = svr_rbf.fit(X,y).predict(Xc)"
   ]
  },
  {
   "cell_type": "code",
   "execution_count": 33,
   "metadata": {
    "collapsed": false
   },
   "outputs": [
    {
     "data": {
      "text/plain": [
       "array([[ 0.19959447],\n",
       "       [ 0.23885118],\n",
       "       [ 0.73145939],\n",
       "       [ 0.93234039],\n",
       "       [ 1.13727675],\n",
       "       [ 1.19367155],\n",
       "       [ 1.46399507],\n",
       "       [ 1.48693853],\n",
       "       [ 1.52021728],\n",
       "       [ 1.52811629],\n",
       "       [ 2.20851853],\n",
       "       [ 2.43756233],\n",
       "       [ 2.5812894 ],\n",
       "       [ 3.05929082],\n",
       "       [ 3.18355138],\n",
       "       [ 3.32763523],\n",
       "       [ 4.33707246],\n",
       "       [ 4.37946704],\n",
       "       [ 4.56512752],\n",
       "       [ 4.94464579]])"
      ]
     },
     "execution_count": 33,
     "metadata": {},
     "output_type": "execute_result"
    }
   ],
   "source": [
    "Xc"
   ]
  },
  {
   "cell_type": "code",
   "execution_count": 34,
   "metadata": {
    "collapsed": true
   },
   "outputs": [],
   "source": [
    "import matplotlib.pyplot as plt"
   ]
  },
  {
   "cell_type": "code",
   "execution_count": 35,
   "metadata": {
    "collapsed": false
   },
   "outputs": [
    {
     "name": "stderr",
     "output_type": "stream",
     "text": [
      "C:\\Pedro\\Anaconda\\lib\\site-packages\\ipykernel\\__main__.py:3: MatplotlibDeprecationWarning: pyplot.hold is deprecated.\n",
      "    Future behavior will be consistent with the long-time default:\n",
      "    plot commands add elements without first clearing the\n",
      "    Axes and/or Figure.\n",
      "  app.launch_new_instance()\n",
      "C:\\Pedro\\Anaconda\\lib\\site-packages\\matplotlib\\__init__.py:917: UserWarning: axes.hold is deprecated. Please remove it from your matplotlibrc and/or style files.\n",
      "  warnings.warn(self.msg_depr_set % key)\n",
      "C:\\Pedro\\Anaconda\\lib\\site-packages\\matplotlib\\rcsetup.py:152: UserWarning: axes.hold is deprecated, will be removed in 3.0\n",
      "  warnings.warn(\"axes.hold is deprecated, will be removed in 3.0\")\n"
     ]
    },
    {
     "data": {
      "image/png": "[encoded data removed]",
      "text/plain": [
       "<matplotlib.figure.Figure at 0x11f5cd2dd68>"
      ]
     },
     "metadata": {},
     "output_type": "display_data"
    }
   ],
   "source": [
    "lw = 2\n",
    "plt.scatter(X, y, color='darkorange', label='data')\n",
    "plt.hold('on')\n",
    "plt.plot(Xc, y_rbf, color='navy', lw=lw, label='RBF model')\n",
    "plt.plot(X, y_lin, color='c', lw=lw, label='Linear model')\n",
    "plt.plot(X, y_poly, color='cornflowerblue', lw=lw, label='Polynomial model')\n",
    "plt.xlabel('data')\n",
    "plt.ylabel('target')\n",
    "plt.title('Support Vector Regression')\n",
    "plt.legend()\n",
    "plt.show()"
   ]
  },
  {
   "cell_type": "code",
   "execution_count": 36,
   "metadata": {
    "collapsed": true
   },
   "outputs": [],
   "source": [
    "y1 = y[::5]"
   ]
  },
  {
   "cell_type": "code",
   "execution_count": 37,
   "metadata": {
    "collapsed": false
   },
   "outputs": [
    {
     "data": {
      "text/plain": [
       "array([-1.11719423, -0.31991415,  0.89094031,  0.14631547, -0.23529911,\n",
       "        0.56092802, -1.17382425, -0.64565987])"
      ]
     },
     "execution_count": 37,
     "metadata": {},
     "output_type": "execute_result"
    }
   ],
   "source": [
    "y1"
   ]
  },
  {
   "cell_type": "code",
   "execution_count": 38,
   "metadata": {
    "collapsed": false
   },
   "outputs": [
    {
     "data": {
      "text/plain": [
       "array([-0.10494609, -0.02799773,  0.66072757,  0.81102276,  0.90136965,\n",
       "        0.91651078,  0.9401371 ,  0.93883741,  0.93613415,  0.93535342,\n",
       "        0.70738526,  0.57437193,  0.47931438,  0.11052187,  0.00513105,\n",
       "       -0.11922405, -0.8337426 , -0.84907107, -0.89487787, -0.87217607])"
      ]
     },
     "execution_count": 38,
     "metadata": {},
     "output_type": "execute_result"
    }
   ],
   "source": [
    "y_rbf"
   ]
  },
  {
   "cell_type": "code",
   "execution_count": null,
   "metadata": {
    "collapsed": true
   },
   "outputs": [],
   "source": []
  }
 ],
 "metadata": {
  "kernelspec": {
   "display_name": "Python 3",
   "language": "python",
   "name": "python3"
  },
  "language_info": {
   "codemirror_mode": {
    "name": "ipython",
    "version": 3
   },
   "file_extension": ".py",
   "mimetype": "text/x-python",
   "name": "python",
   "nbconvert_exporter": "python",
   "pygments_lexer": "ipython3",
   "version": "3.6.0"
  }
 },
 "nbformat": 4,
 "nbformat_minor": 0
}
