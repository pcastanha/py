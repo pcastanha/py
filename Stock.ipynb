{
 "cells": [
  {
   "cell_type": "code",
   "execution_count": 1,
   "metadata": {
    "collapsed": false
   },
   "outputs": [],
   "source": [
    "from __future__ import print_function\n",
    "\n",
    "import pandas as pd\n",
    "import numpy as np\n",
    "\n",
    "%matplotlib inline\n",
    "import matplotlib.pyplot as plt\n",
    "from sklearn.preprocessing import StandardScaler\n",
    "from sklearn.model_selection import GridSearchCV\n",
    "from sklearn.model_selection import train_test_split\n",
    "from sklearn.naive_bayes import BernoulliNB"
   ]
  },
  {
   "cell_type": "code",
   "execution_count": 2,
   "metadata": {
    "collapsed": false,
    "scrolled": false
   },
   "outputs": [
    {
     "name": "stdout",
     "output_type": "stream",
     "text": [
      "<class 'pandas.core.frame.DataFrame'>\n",
      "RangeIndex: 1611 entries, 0 to 1610\n",
      "Data columns (total 28 columns):\n",
      "RecordID    1611 non-null int64\n",
      "Date        1611 non-null object\n",
      "Target      1611 non-null int64\n",
      "Top1        1611 non-null object\n",
      "Top2        1611 non-null object\n",
      "Top3        1611 non-null object\n",
      "Top4        1611 non-null object\n",
      "Top5        1611 non-null object\n",
      "Top6        1611 non-null object\n",
      "Top7        1611 non-null object\n",
      "Top8        1611 non-null object\n",
      "Top9        1611 non-null object\n",
      "Top10       1611 non-null object\n",
      "Top11       1611 non-null object\n",
      "Top12       1611 non-null object\n",
      "Top13       1611 non-null object\n",
      "Top14       1611 non-null object\n",
      "Top15       1611 non-null object\n",
      "Top16       1611 non-null object\n",
      "Top17       1611 non-null object\n",
      "Top18       1611 non-null object\n",
      "Top19       1611 non-null object\n",
      "Top20       1611 non-null object\n",
      "Top21       1611 non-null object\n",
      "Top22       1611 non-null object\n",
      "Top23       1610 non-null object\n",
      "Top24       1608 non-null object\n",
      "Top25       1608 non-null object\n",
      "dtypes: int64(2), object(26)\n",
      "memory usage: 352.5+ KB\n"
     ]
    }
   ],
   "source": [
    "# Read file as csv using semicolon as separator\n",
    "df = pd.read_csv('C:\\Pedro\\workspace\\Acc-challenge\\Stock\\Combined_News_DJIA_train.csv', error_bad_lines=False, sep=';')\n",
    "df.info()"
   ]
  },
  {
   "cell_type": "code",
   "execution_count": 3,
   "metadata": {
    "collapsed": false
   },
   "outputs": [
    {
     "name": "stdout",
     "output_type": "stream",
     "text": [
      "<class 'pandas.core.frame.DataFrame'>\n",
      "Int64Index: 1608 entries, 0 to 1610\n",
      "Data columns (total 28 columns):\n",
      "RecordID    1608 non-null int64\n",
      "Date        1608 non-null object\n",
      "Target      1608 non-null int64\n",
      "Top1        1608 non-null object\n",
      "Top2        1608 non-null object\n",
      "Top3        1608 non-null object\n",
      "Top4        1608 non-null object\n",
      "Top5        1608 non-null object\n",
      "Top6        1608 non-null object\n",
      "Top7        1608 non-null object\n",
      "Top8        1608 non-null object\n",
      "Top9        1608 non-null object\n",
      "Top10       1608 non-null object\n",
      "Top11       1608 non-null object\n",
      "Top12       1608 non-null object\n",
      "Top13       1608 non-null object\n",
      "Top14       1608 non-null object\n",
      "Top15       1608 non-null object\n",
      "Top16       1608 non-null object\n",
      "Top17       1608 non-null object\n",
      "Top18       1608 non-null object\n",
      "Top19       1608 non-null object\n",
      "Top20       1608 non-null object\n",
      "Top21       1608 non-null object\n",
      "Top22       1608 non-null object\n",
      "Top23       1608 non-null object\n",
      "Top24       1608 non-null object\n",
      "Top25       1608 non-null object\n",
      "dtypes: int64(2), object(26)\n",
      "memory usage: 364.3+ KB\n"
     ]
    }
   ],
   "source": [
    "# Fix rows with missing values removing them using the index function\n",
    "df = df.drop(df[df.Top25.isnull()].index, axis=0)\n",
    "df.info()"
   ]
  },
  {
   "cell_type": "code",
   "execution_count": 4,
   "metadata": {
    "collapsed": false
   },
   "outputs": [
    {
     "name": "stdout",
     "output_type": "stream",
     "text": [
      "                                                Top1  \\\n",
      "0  b\"Georgia 'downs two Russian warplanes' as cou...   \n",
      "1  b'Why wont America and Nato help us? If they w...   \n",
      "2  b'Remember that adorable 9-year-old who sang a...   \n",
      "3  b' U.S. refuses Israel weapons to attack Iran:...   \n",
      "4  b'All the experts admit that we should legalis...   \n",
      "\n",
      "                                                Top2  \n",
      "0            b'BREAKING: Musharraf to be impeached.'  \n",
      "1        b'Bush puts foot down on Georgian conflict'  \n",
      "2                 b\"Russia 'ends Georgia operation'\"  \n",
      "3  b\"When the president ordered to attack Tskhinv...  \n",
      "4  b'War in South Osetia - 89 pictures made by a ...  \n"
     ]
    }
   ],
   "source": [
    "print(df.iloc[0:5, 3:5])"
   ]
  },
  {
   "cell_type": "code",
   "execution_count": 11,
   "metadata": {
    "collapsed": false
   },
   "outputs": [
    {
     "name": "stdout",
     "output_type": "stream",
     "text": [
      "<class 'pandas.core.frame.DataFrame'>\n",
      "Int64Index: 1608 entries, 0 to 1610\n",
      "Data columns (total 25 columns):\n",
      "Top1     1608 non-null object\n",
      "Top2     1608 non-null object\n",
      "Top3     1608 non-null object\n",
      "Top4     1608 non-null object\n",
      "Top5     1608 non-null object\n",
      "Top6     1608 non-null object\n",
      "Top7     1608 non-null object\n",
      "Top8     1608 non-null object\n",
      "Top9     1608 non-null object\n",
      "Top10    1608 non-null object\n",
      "Top11    1608 non-null object\n",
      "Top12    1608 non-null object\n",
      "Top13    1608 non-null object\n",
      "Top14    1608 non-null object\n",
      "Top15    1608 non-null object\n",
      "Top16    1608 non-null object\n",
      "Top17    1608 non-null object\n",
      "Top18    1608 non-null object\n",
      "Top19    1608 non-null object\n",
      "Top20    1608 non-null object\n",
      "Top21    1608 non-null object\n",
      "Top22    1608 non-null object\n",
      "Top23    1608 non-null object\n",
      "Top24    1608 non-null object\n",
      "Top25    1608 non-null object\n",
      "dtypes: object(25)\n",
      "memory usage: 326.6+ KB\n"
     ]
    }
   ],
   "source": [
    "Y = df.Target\n",
    "X = df.drop(labels=['RecordID', 'Date', 'Target'], axis=1)\n",
    "\n",
    "X.info()\n",
    "\n",
    "clf = BernoulliNB()\n",
    "#clf.fit(X, Y)"
   ]
  }
 ],
 "metadata": {
  "anaconda-cloud": {},
  "kernelspec": {
   "display_name": "Python [Root]",
   "language": "python",
   "name": "Python [Root]"
  },
  "language_info": {
   "codemirror_mode": {
    "name": "ipython",
    "version": 2
   },
   "file_extension": ".py",
   "mimetype": "text/x-python",
   "name": "python",
   "nbconvert_exporter": "python",
   "pygments_lexer": "ipython2",
   "version": "2.7.12"
  }
 },
 "nbformat": 4,
 "nbformat_minor": 0
}
