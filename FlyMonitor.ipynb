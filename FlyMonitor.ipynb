{
 "cells": [
  {
   "cell_type": "code",
   "execution_count": 1,
   "metadata": {
    "collapsed": false
   },
   "outputs": [],
   "source": [
    "import httplib\n",
    "import urllib\n",
    "import ssl\n",
    "\n",
    "from requests import Request, Session"
   ]
  },
  {
   "cell_type": "code",
   "execution_count": null,
   "metadata": {
    "collapsed": false
   },
   "outputs": [],
   "source": [
    "# GET\n",
    "\n",
    "#conn = httplib.HTTPSConnection(\"www.python.org\")\n",
    "conn = httplib.HTTPSConnection(\"208.72.8.246:443\", context=ssl._create_unverified_context())\n",
    "headers = {\"Content-type\": \"application/x-www-form-urlencoded\", \"Accept\": \"text/plain\", \n",
    "           \"Accept-Encoding\": \"gzip, deflate, sdch, br\"}\n",
    "\"\"\"\n",
    "text/html,application/xhtml+xml,application/xml;q=0.9,image/webp,*/*;q=0.8\n",
    "\"\"\"\n",
    "conn.request(\"GET\", \"/\", headers=headers)\n",
    "r1 = conn.getresponse()\n",
    "print r1.status, r1.reason\n",
    "print r1.getheaders()\n",
    "\n",
    "data1 = r1.read()\n",
    "conn.request(\"GET\", \"/\")\n",
    "r2 = conn.getresponse()\n",
    "print r2.status, r2.reason\n",
    "\n",
    "data2 = r2.read()\n",
    "conn.close()\n",
    "\n",
    "# POST\n",
    "\n",
    "params = urllib.urlencode({'@number': 12524, '@type': 'issue', '@action': 'show'})\n",
    "headers = {\"Content-type\": \"application/x-www-form-urlencoded\", \"Accept\": \"text/plain\"}\n",
    "conn = httplib.HTTPConnection(\"bugs.python.org\")\n",
    "conn.request(\"POST\", \"\", params, headers)\n",
    "response = conn.getresponse()\n",
    "print response.status, response.reason\n",
    "\n",
    "data = response.read()\n",
    "data\n",
    "\n",
    "conn.close()"
   ]
  },
  {
   "cell_type": "code",
   "execution_count": 11,
   "metadata": {
    "collapsed": false
   },
   "outputs": [
    {
     "name": "stdout",
     "output_type": "stream",
     "text": [
      "Requesting Voeazul website\n"
     ]
    },
    {
     "ename": "BadStatusLine",
     "evalue": "''",
     "output_type": "error",
     "traceback": [
      "\u001b[1;31m---------------------------------------------------------------------------\u001b[0m",
      "\u001b[1;31mBadStatusLine\u001b[0m                             Traceback (most recent call last)",
      "\u001b[1;32m<ipython-input-11-9c74b578b2f0>\u001b[0m in \u001b[0;36m<module>\u001b[1;34m()\u001b[0m\n\u001b[0;32m     58\u001b[0m \u001b[0mconn\u001b[0m \u001b[1;33m=\u001b[0m \u001b[0mhttplib\u001b[0m\u001b[1;33m.\u001b[0m\u001b[0mHTTPConnection\u001b[0m\u001b[1;33m(\u001b[0m\u001b[1;34m\"104.105.131.94:443\"\u001b[0m\u001b[1;33m)\u001b[0m\u001b[1;33m\u001b[0m\u001b[0m\n\u001b[0;32m     59\u001b[0m \u001b[0mconn\u001b[0m\u001b[1;33m.\u001b[0m\u001b[0mrequest\u001b[0m\u001b[1;33m(\u001b[0m\u001b[1;34m\"POST\"\u001b[0m\u001b[1;33m,\u001b[0m \u001b[1;34m\"\"\u001b[0m\u001b[1;33m,\u001b[0m \u001b[0mparams\u001b[0m\u001b[1;33m,\u001b[0m \u001b[0mheaders\u001b[0m\u001b[1;33m)\u001b[0m\u001b[1;33m\u001b[0m\u001b[0m\n\u001b[1;32m---> 60\u001b[1;33m \u001b[0mresponse\u001b[0m \u001b[1;33m=\u001b[0m \u001b[0mconn\u001b[0m\u001b[1;33m.\u001b[0m\u001b[0mgetresponse\u001b[0m\u001b[1;33m(\u001b[0m\u001b[1;33m)\u001b[0m\u001b[1;33m\u001b[0m\u001b[0m\n\u001b[0m\u001b[0;32m     61\u001b[0m \u001b[1;32mprint\u001b[0m \u001b[0mresponse\u001b[0m\u001b[1;33m.\u001b[0m\u001b[0mstatus\u001b[0m\u001b[1;33m,\u001b[0m \u001b[0mresponse\u001b[0m\u001b[1;33m.\u001b[0m\u001b[0mreason\u001b[0m\u001b[1;33m\u001b[0m\u001b[0m\n\u001b[0;32m     62\u001b[0m \u001b[1;33m\u001b[0m\u001b[0m\n",
      "\u001b[1;32mC:\\Program Files (x86)\\Anaconda\\lib\\httplib.pyc\u001b[0m in \u001b[0;36mgetresponse\u001b[1;34m(self, buffering)\u001b[0m\n\u001b[0;32m   1134\u001b[0m \u001b[1;33m\u001b[0m\u001b[0m\n\u001b[0;32m   1135\u001b[0m         \u001b[1;32mtry\u001b[0m\u001b[1;33m:\u001b[0m\u001b[1;33m\u001b[0m\u001b[0m\n\u001b[1;32m-> 1136\u001b[1;33m             \u001b[0mresponse\u001b[0m\u001b[1;33m.\u001b[0m\u001b[0mbegin\u001b[0m\u001b[1;33m(\u001b[0m\u001b[1;33m)\u001b[0m\u001b[1;33m\u001b[0m\u001b[0m\n\u001b[0m\u001b[0;32m   1137\u001b[0m             \u001b[1;32massert\u001b[0m \u001b[0mresponse\u001b[0m\u001b[1;33m.\u001b[0m\u001b[0mwill_close\u001b[0m \u001b[1;33m!=\u001b[0m \u001b[0m_UNKNOWN\u001b[0m\u001b[1;33m\u001b[0m\u001b[0m\n\u001b[0;32m   1138\u001b[0m             \u001b[0mself\u001b[0m\u001b[1;33m.\u001b[0m\u001b[0m__state\u001b[0m \u001b[1;33m=\u001b[0m \u001b[0m_CS_IDLE\u001b[0m\u001b[1;33m\u001b[0m\u001b[0m\n",
      "\u001b[1;32mC:\\Program Files (x86)\\Anaconda\\lib\\httplib.pyc\u001b[0m in \u001b[0;36mbegin\u001b[1;34m(self)\u001b[0m\n\u001b[0;32m    451\u001b[0m         \u001b[1;31m# read until we get a non-100 response\u001b[0m\u001b[1;33m\u001b[0m\u001b[1;33m\u001b[0m\u001b[0m\n\u001b[0;32m    452\u001b[0m         \u001b[1;32mwhile\u001b[0m \u001b[0mTrue\u001b[0m\u001b[1;33m:\u001b[0m\u001b[1;33m\u001b[0m\u001b[0m\n\u001b[1;32m--> 453\u001b[1;33m             \u001b[0mversion\u001b[0m\u001b[1;33m,\u001b[0m \u001b[0mstatus\u001b[0m\u001b[1;33m,\u001b[0m \u001b[0mreason\u001b[0m \u001b[1;33m=\u001b[0m \u001b[0mself\u001b[0m\u001b[1;33m.\u001b[0m\u001b[0m_read_status\u001b[0m\u001b[1;33m(\u001b[0m\u001b[1;33m)\u001b[0m\u001b[1;33m\u001b[0m\u001b[0m\n\u001b[0m\u001b[0;32m    454\u001b[0m             \u001b[1;32mif\u001b[0m \u001b[0mstatus\u001b[0m \u001b[1;33m!=\u001b[0m \u001b[0mCONTINUE\u001b[0m\u001b[1;33m:\u001b[0m\u001b[1;33m\u001b[0m\u001b[0m\n\u001b[0;32m    455\u001b[0m                 \u001b[1;32mbreak\u001b[0m\u001b[1;33m\u001b[0m\u001b[0m\n",
      "\u001b[1;32mC:\\Program Files (x86)\\Anaconda\\lib\\httplib.pyc\u001b[0m in \u001b[0;36m_read_status\u001b[1;34m(self)\u001b[0m\n\u001b[0;32m    415\u001b[0m             \u001b[1;31m# Presumably, the server closed the connection before\u001b[0m\u001b[1;33m\u001b[0m\u001b[1;33m\u001b[0m\u001b[0m\n\u001b[0;32m    416\u001b[0m             \u001b[1;31m# sending a valid response.\u001b[0m\u001b[1;33m\u001b[0m\u001b[1;33m\u001b[0m\u001b[0m\n\u001b[1;32m--> 417\u001b[1;33m             \u001b[1;32mraise\u001b[0m \u001b[0mBadStatusLine\u001b[0m\u001b[1;33m(\u001b[0m\u001b[0mline\u001b[0m\u001b[1;33m)\u001b[0m\u001b[1;33m\u001b[0m\u001b[0m\n\u001b[0m\u001b[0;32m    418\u001b[0m         \u001b[1;32mtry\u001b[0m\u001b[1;33m:\u001b[0m\u001b[1;33m\u001b[0m\u001b[0m\n\u001b[0;32m    419\u001b[0m             \u001b[1;33m[\u001b[0m\u001b[0mversion\u001b[0m\u001b[1;33m,\u001b[0m \u001b[0mstatus\u001b[0m\u001b[1;33m,\u001b[0m \u001b[0mreason\u001b[0m\u001b[1;33m]\u001b[0m \u001b[1;33m=\u001b[0m \u001b[0mline\u001b[0m\u001b[1;33m.\u001b[0m\u001b[0msplit\u001b[0m\u001b[1;33m(\u001b[0m\u001b[0mNone\u001b[0m\u001b[1;33m,\u001b[0m \u001b[1;36m2\u001b[0m\u001b[1;33m)\u001b[0m\u001b[1;33m\u001b[0m\u001b[0m\n",
      "\u001b[1;31mBadStatusLine\u001b[0m: ''"
     ]
    }
   ],
   "source": [
    "# POST NEW\n",
    "\n",
    "print('Requesting Voeazul website')\n",
    "params = urllib.urlencode({'__EVENTTARGET': 'SearchControlGroupAvailabilityView$LinkButtonSubmit',\n",
    "                           #'__EVENTARGUMENT': ,\n",
    "                           '__VIEWSTATE': '/wEPDwUBMGRk8HVTGURCOI8ogJjuxnKVJYjGv9I=',\n",
    "                           #'pageToken': ,\n",
    "                           #'_authkey_': ,\n",
    "                           'loginDomain': 'AZUL_LOGIN',\n",
    "                           'NavigationHeaderInputAvailabilityView$MemberLoginAvailabilityView$TextBoxUserID': '08963551601',\n",
    "                           #'NavigationHeaderInputAvailabilityView$MemberLoginAvailabilityView$PasswordFieldPassword': ,\n",
    "                           #'AvailabilityInputAvailabilityView$market1': ,\n",
    "                           #'login-ta': ,\n",
    "                           #'password-ta': ,\n",
    "                           'SearchControlGroupAvailabilityView$SearchControlAvailabilityView$RadioButtonMarketStructure': 'OneWay',\n",
    "                           'SearchControlGroupAvailabilityView$SearchControlAvailabilityView$TextBoxMarketOrigin1': 'Florianópolis (FLN)                                        ',\n",
    "                           #'SearchControlGroupAvailabilityView$SearchControlAvailabilityView$CheckBoxUseMacOrigin1': ,\n",
    "                           #'hdfSearchCodeDeparture1': ,\n",
    "                           'SearchControlGroupAvailabilityView$SearchControlAvailabilityView$TextBoxMarketDestination1': 'Belo Horizonte - Confins (CNF)                                        ',\n",
    "                           #'SearchControlGroupAvailabilityView$SearchControlAvailabilityView$CheckBoxUseMacDestination1': ,\n",
    "                           #'hdfSearchCodeArrival1': ,\n",
    "                           'departure1': '21/04/2017',\n",
    "                           'SearchControlGroupAvailabilityView$SearchControlAvailabilityView$DropDownListMarketDay1': 21,\n",
    "                           'SearchControlGroupAvailabilityView$SearchControlAvailabilityView$DropDownListMarketMonth1': '2017-04',\n",
    "                           #'arrival': ,\n",
    "                           #'SearchControlGroupAvailabilityView$SearchControlAvailabilityView$DropDownListMarketDay2': ,\n",
    "                           #'SearchControlGroupAvailabilityView$SearchControlAvailabilityView$DropDownListMarketMonth2': ,\n",
    "                           'origin2': 'Belo Horizonte - Confins (CNF)                                            ',\n",
    "                           'SearchControlGroupAvailabilityView$SearchControlAvailabilityView$TextBoxMarketOrigin2': 'Belo Horizonte - Confins (CNF)                                            ',\n",
    "                           #'SearchControlGroupAvailabilityView$SearchControlAvailabilityView$CheckBoxUseMacOrigin2': '',\n",
    "                           #'hdfSearchCodeDeparture2': ,\n",
    "                           'destination2': 'Florianópolis (FLN)                                            ',\n",
    "                           'SearchControlGroupAvailabilityView$SearchControlAvailabilityView$TextBoxMarketDestination2': 'Florianópolis (FLN)                                            ',\n",
    "                           #'SearchControlGroupAvailabilityView$SearchControlAvailabilityView$CheckBoxUseMacDestination2': ,\n",
    "                           #'hdfSearchCodeArrival2': ,\n",
    "                           #'departure2': ,\n",
    "                           'SearchControlGroupAvailabilityView$SearchControlAvailabilityView$DropDownListPassengerType_ADT': 1,\n",
    "                           'SearchControlGroupAvailabilityView$SearchControlAvailabilityView$DropDownListPassengerType_CHD': 0,\n",
    "                           'SearchControlGroupAvailabilityView$SearchControlAvailabilityView$DropDownListPassengerType_INFANT': 0,\n",
    "                           'faretypes': 'R',\n",
    "                           'SearchControlGroupAvailabilityView$SearchControlAvailabilityView$DropDownListSearchBy': 'columnView',\n",
    "                           'SearchControlGroupAvailabilityView$SearchControlAvailabilityView$DropDownListFareTypes': 'R'\n",
    "                          })\n",
    "#print params\n",
    "headers = {\"Content-type\": \"application/x-www-form-urlencoded\", \n",
    "           \"Accept\": \"text/html,application/xhtml+xml,application/xml;q=0.9,image/webp,*/*;q=0.8\",\n",
    "           \"Accept-Encoding\": \"gzip, deflate, br\",\n",
    "           \"Accept-Language\": \"en-US,en;q=0.8\",\n",
    "           \"Cache-Control\": \"max-age=0\",\n",
    "           \"Connection\": \"keep-alive\",\n",
    "           \"Content-Length\": \"3008\",\n",
    "           \"Host\": \"viajemais.voeazul.com.br\",\n",
    "           \"Origin\": \"https://viajemais.voeazul.com.br\",\n",
    "           \"Referer\": \"https://viajemais.voeazul.com.br/Availability.aspx\",\n",
    "           \"Upgrade-Insecure-Requests\": 1,\n",
    "           \"User-Agent\": \"Mozilla/5.0 (Windows NT 10.0; WOW64) AppleWebKit/537.36 (KHTML, like Gecko) Chrome/56.0.2924.87 Safari/537.36\"\n",
    "          }\n",
    "conn = httplib.HTTPConnection(\"104.105.131.94:443\")\n",
    "conn.request(\"POST\", \"\", params, headers)\n",
    "response = conn.getresponse()\n",
    "print response.status, response.reason\n",
    "\n",
    "data = response.read()\n",
    "data\n",
    "\n",
    "conn.close()"
   ]
  },
  {
   "cell_type": "code",
   "execution_count": null,
   "metadata": {
    "collapsed": true
   },
   "outputs": [],
   "source": []
  }
 ],
 "metadata": {
  "kernelspec": {
   "display_name": "Python [Root]",
   "language": "python",
   "name": "Python [Root]"
  },
  "language_info": {
   "codemirror_mode": {
    "name": "ipython",
    "version": 2
   },
   "file_extension": ".py",
   "mimetype": "text/x-python",
   "name": "python",
   "nbconvert_exporter": "python",
   "pygments_lexer": "ipython2",
   "version": "2.7.12"
  }
 },
 "nbformat": 4,
 "nbformat_minor": 0
}
