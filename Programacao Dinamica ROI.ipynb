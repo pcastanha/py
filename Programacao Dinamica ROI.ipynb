{
 "cells": [
  {
   "cell_type": "code",
   "execution_count": 1,
   "metadata": {
    "ExecuteTime": {
     "end_time": "2017-01-12T13:49:07.636000",
     "start_time": "2017-01-12T13:49:06.444000"
    },
    "collapsed": false
   },
   "outputs": [
    {
     "name": "stdout",
     "output_type": "stream",
     "text": [
      "Populating the interactive namespace from numpy and matplotlib\n"
     ]
    }
   ],
   "source": [
    "from __future__ import print_function\n",
    "\n",
    "import pandas as pd\n",
    "\n",
    "%pylab inline\n",
    "\n",
    "import seaborn as sns"
   ]
  },
  {
   "cell_type": "code",
   "execution_count": 2,
   "metadata": {
    "ExecuteTime": {
     "end_time": "2017-01-12T13:49:07.659000",
     "start_time": "2017-01-12T13:49:07.641000"
    },
    "collapsed": false
   },
   "outputs": [],
   "source": [
    "df_json = ('{\"Tipo\":{\"0\":\"TV\",\"1\":\"DIG\",\"2\":\"RAD\",\"3\":\"REV\"},\"Varia\\\\u00e7\\\\u00e3o\":{\"0\":0.2,\"1\":0.3,\"2\":0.5,\"3\":0.5}'\n",
    "           ',\"Inv Hist\":{\"0\":1000,\"1\":500,\"2\":300,\"3\":200},\"Min\":{\"0\":800,\"1\":350,\"2\":150,\"3\":100},'\n",
    "           '\"Max\":{\"0\":1200,\"1\":650,\"2\":450,\"3\":300},\"Alpha\":{\"0\":5000,\"1\":3000,\"2\":3500,\"3\":4000},'\n",
    "           '\"Beta\":{\"0\":0.5,\"1\":0.4,\"2\":0.3,\"3\":0.45}}')\n",
    "\n",
    "df = pd.read_json(df_json, )[[u'Tipo', u'Variação', u'Inv Hist', u'Min', u'Max', u'Alpha', u'Beta']].copy()\n",
    "\n",
    "step_ = 1\n",
    "\n",
    "# Exemplo de budget\n",
    "budget = 850"
   ]
  },
  {
   "cell_type": "code",
   "execution_count": 60,
   "metadata": {
    "ExecuteTime": {
     "end_time": "2017-01-12T13:49:07.669000",
     "start_time": "2017-01-12T13:49:07.663000"
    },
    "collapsed": false
   },
   "outputs": [],
   "source": [
    "x_series = pd.Series(df.Max.apply(lambda max_: range(0, max_, step_)))"
   ]
  },
  {
   "cell_type": "code",
   "execution_count": 4,
   "metadata": {
    "ExecuteTime": {
     "end_time": "2017-01-12T13:49:07.710000",
     "start_time": "2017-01-12T13:49:07.675000"
    },
    "collapsed": false,
    "scrolled": true
   },
   "outputs": [
    {
     "name": "stderr",
     "output_type": "stream",
     "text": [
      "C:\\Program Files (x86)\\Anaconda\\lib\\site-packages\\ipykernel\\__main__.py:4: RuntimeWarning: invalid value encountered in power\n"
     ]
    }
   ],
   "source": [
    "x_por_tipo = x_series.apply(pd.Series)\n",
    "x_por_tipo.index = df.Tipo\n",
    "x_por_tipo = x_por_tipo.T\n",
    "y_por_tipo_array = pd.np.array(df.Alpha) * pd.np.array(x_por_tipo) ** pd.np.array(df.Beta)\n",
    "y_por_tipo = pd.DataFrame(y_por_tipo_array, index=x_por_tipo.index, columns=x_por_tipo.columns)\n",
    "dy_por_tipo = y_por_tipo.diff().dropna().fillna(0.)"
   ]
  },
  {
   "cell_type": "code",
   "execution_count": 65,
   "metadata": {
    "collapsed": false
   },
   "outputs": [],
   "source": [
    "#investimento_otimo = [x_por_tipo[k][v] for (k, v) in investimento_por_tipo.iteritems()]\n",
    "\n",
    "#investimento_otimo = []\n",
    "\n",
    "#for (k, v) in investimento_por_tipo.iteritems():\n",
    "#    print(y_por_tipo[k][v])\n",
    "\n",
    "#for (k, v) in investimento_por_tipo.iteritems():\n",
    "#    print(y_por_tipo[k][v])\n",
    "\n",
    "#for k in investimento_por_tipo:\n",
    "    #print(x_por_tipo)\n",
    "    #v = investimento_por_tipo[k]\n",
    "    #investimento_otimo.append(x_por_tipo[k][v])\n"
   ]
  },
  {
   "cell_type": "code",
   "execution_count": null,
   "metadata": {
    "ExecuteTime": {
     "end_time": "2017-01-12T13:49:08.302000",
     "start_time": "2017-01-12T13:49:07.714000"
    },
    "collapsed": false,
    "scrolled": true
   },
   "outputs": [],
   "source": [
    "investimento_por_tipo = pd.Series(0, index=df.Tipo)\n",
    "x = []\n",
    "y = []\n",
    "investimentos_otimos = []\n",
    "while investimento_por_tipo.sum() < len(investimento_por_tipo) * (len(dy_por_tipo)-1):\n",
    "    investimento_otimo = [x_por_tipo[k][v] for (k, v) in investimento_por_tipo.iteritems()]\n",
    "    #investimentos_otimos.append(investimento_otimo)\n",
    "    vendas_incrementais = [y_por_tipo[k][v] for (k, v) in investimento_por_tipo.iteritems()]\n",
    "    x.append(sum(investimento_otimo))\n",
    "    y.append(sum(vendas_incrementais))\n",
    "    #print('X: %d - Y: %d' % (sum(investimento_otimo), sum(vendas_incrementais)))\n",
    "    if x[-1] == float(budget):\n",
    "        print('Investimento por tipo: %s' % investimento_por_tipo )\n",
    "        vendas_incrementais_otima = y[-1]\n",
    "        print('Solucao Otima para o budget dado', x[-1], y[-1])\n",
    "    candidatos = investimento_por_tipo + 1\n",
    "    melhor_tipo = max([(dy_por_tipo[k][v], k) for (k, v) in candidatos.iteritems() if v < len(dy_por_tipo)])[1]\n",
    "    investimento_por_tipo[melhor_tipo] += 1"
   ]
  },
  {
   "cell_type": "code",
   "execution_count": 37,
   "metadata": {
    "collapsed": false
   },
   "outputs": [
    {
     "data": {
      "text/plain": [
       "Tipo\n",
       "TV     0\n",
       "DIG    0\n",
       "RAD    0\n",
       "REV    0\n",
       "dtype: int64"
      ]
     },
     "execution_count": 37,
     "metadata": {},
     "output_type": "execute_result"
    }
   ],
   "source": [
    "pd.Series(0, index=df.Tipo)"
   ]
  },
  {
   "cell_type": "code",
   "execution_count": 6,
   "metadata": {
    "ExecuteTime": {
     "end_time": "2017-01-12T13:49:08.536000",
     "start_time": "2017-01-12T13:49:08.305000"
    },
    "collapsed": false
   },
   "outputs": [
    {
     "data": {
      "text/plain": [
       "<matplotlib.lines.Line2D at 0xa64d4e0>"
      ]
     },
     "execution_count": 6,
     "metadata": {},
     "output_type": "execute_result"
    },
    {
     "data": {
      "image/png": "[encoded data removed]",
      "text/plain": [
       "<matplotlib.figure.Figure at 0xa495748>"
      ]
     },
     "metadata": {},
     "output_type": "display_data"
    }
   ],
   "source": [
    "scatter(x, y)\n",
    "axvline(budget, color='gray')\n",
    "axhline(vendas_incrementais_otima, color='gray')"
   ]
  }
 ],
 "metadata": {
  "anaconda-cloud": {},
  "kernelspec": {
   "display_name": "Python [Root]",
   "language": "python",
   "name": "Python [Root]"
  },
  "language_info": {
   "codemirror_mode": {
    "name": "ipython",
    "version": 2
   },
   "file_extension": ".py",
   "mimetype": "text/x-python",
   "name": "python",
   "nbconvert_exporter": "python",
   "pygments_lexer": "ipython2",
   "version": "2.7.12"
  },
  "toc": {
   "toc_cell": false,
   "toc_number_sections": true,
   "toc_threshold": 6,
   "toc_window_display": false
  }
 },
 "nbformat": 4,
 "nbformat_minor": 1
}
